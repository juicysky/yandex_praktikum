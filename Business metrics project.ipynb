{
 "cells": [
  {
   "cell_type": "markdown",
   "metadata": {},
   "source": [
    "# Аналитика Я.Афиши для оптимизации маркетинговых затрат"
   ]
  },
  {
   "cell_type": "markdown",
   "metadata": {},
   "source": [
    "Необходимо провести исследование, которое поможет маркетологам оптимизировать маркетинговые затраты. \n",
    "\n",
    "В нашем распоряжении есть данные от Яндекс.Афиши с июня 2017 по конец мая 2018 года:\n",
    "- лог сервера с данными о посещениях сайта Яндекс.Афиши,\n",
    "- выгрузка всех заказов за этот период,\n",
    "- статистика рекламных расходов.\n",
    "\n",
    "Необходимо изучить:\n",
    "- как люди пользуются продуктом,\n",
    "- когда они начинают покупать,\n",
    "- сколько денег приносит каждый клиент, \n",
    "- когда клиент окупается."
   ]
  },
  {
   "cell_type": "markdown",
   "metadata": {},
   "source": [
    "## Описание данных\n",
    "\n",
    "**Таблица visits (лог сервера с информацией о посещениях сайта):**\n",
    "- Uid — уникальный идентификатор пользователя\n",
    "- Device — категория устройства пользователя\n",
    "- Start Ts — дата и время начала сессии\n",
    "- End Ts — дата и время окончания сессии\n",
    "- Source Id — идентификатор рекламного источника, из которого пришел пользователь\n",
    "\n",
    "**Таблица orders (информация о заказах):**\n",
    "- Uid — уникальный id пользователя, который сделал заказ\n",
    "- Buy Ts — дата и время заказа\n",
    "- Revenue — выручка Яндекс.Афиши с этого заказа\n",
    "\n",
    "**Таблица costs (информация о затратах на маркетинг):**\n",
    "- source_id — идентификатор рекламного источника\n",
    "- dt — дата\n",
    "- costs — затраты на этот рекламный источник в этот день\n",
    "\n"
   ]
  },
  {
   "cell_type": "markdown",
   "metadata": {},
   "source": [
    "## План работы: \n",
    "\n",
    "Шаг 1. Изучение общей информации о файлах и их подготовка к анализу\n",
    "\n",
    "Шаг 2. Посчитать метрики и простроить отчеты\n",
    "\n",
    "**Продукт**\n",
    "- Сколько людей пользуются в день, неделю, месяц?\n",
    "- Сколько сессий в день?\n",
    "- Сколько длится одна сессия?\n",
    "- Как часто люди возвращаются?\n",
    "\n",
    "**Продажи**\n",
    "- Когда люди начинают покупать?\n",
    "- Сколько раз покупают за период?\n",
    "- Какой средний чек?\n",
    "- Сколько денег приносят? (LTV)\n",
    "\n",
    "**Маркетинг**\n",
    "- Сколько денег потратили? Всего / на каждый источник / по времени\n",
    "- Сколько стоило привлечение одного покупателя из каждого источника?\n",
    "- На сколько окупились расходы? (ROI)\n",
    "\n",
    "Шаг 3. Вывод\n"
   ]
  },
  {
   "cell_type": "markdown",
   "metadata": {},
   "source": [
    "###  Шаг 1. Изучим информация о файлах и подготовим их к анализу"
   ]
  },
  {
   "cell_type": "code",
   "execution_count": 1,
   "metadata": {
    "collapsed": true
   },
   "outputs": [],
   "source": [
    "#импортируем необходимые библиотеки\n",
    "import pandas as pd\n",
    "import numpy as np\n",
    "import matplotlib.pyplot as plt\n",
    "import seaborn as sns\n",
    "from scipy import stats as st\n",
    "from matplotlib import pyplot"
   ]
  },
  {
   "cell_type": "markdown",
   "metadata": {},
   "source": [
    "Изучим датасет visits_log.csv:"
   ]
  },
  {
   "cell_type": "code",
   "execution_count": 2,
   "metadata": {},
   "outputs": [
    {
     "name": "stdout",
     "output_type": "stream",
     "text": [
      "<class 'pandas.core.frame.DataFrame'>\n",
      "RangeIndex: 359400 entries, 0 to 359399\n",
      "Data columns (total 5 columns):\n",
      "Device       359400 non-null object\n",
      "End Ts       359400 non-null object\n",
      "Source Id    359400 non-null int64\n",
      "Start Ts     359400 non-null object\n",
      "Uid          359400 non-null uint64\n",
      "dtypes: int64(1), object(3), uint64(1)\n",
      "memory usage: 13.7+ MB\n"
     ]
    },
    {
     "data": {
      "text/html": [
       "<div>\n",
       "<style scoped>\n",
       "    .dataframe tbody tr th:only-of-type {\n",
       "        vertical-align: middle;\n",
       "    }\n",
       "\n",
       "    .dataframe tbody tr th {\n",
       "        vertical-align: top;\n",
       "    }\n",
       "\n",
       "    .dataframe thead th {\n",
       "        text-align: right;\n",
       "    }\n",
       "</style>\n",
       "<table border=\"1\" class=\"dataframe\">\n",
       "  <thead>\n",
       "    <tr style=\"text-align: right;\">\n",
       "      <th></th>\n",
       "      <th>Device</th>\n",
       "      <th>End Ts</th>\n",
       "      <th>Source Id</th>\n",
       "      <th>Start Ts</th>\n",
       "      <th>Uid</th>\n",
       "    </tr>\n",
       "  </thead>\n",
       "  <tbody>\n",
       "    <tr>\n",
       "      <td>0</td>\n",
       "      <td>touch</td>\n",
       "      <td>2017-12-20 17:38:00</td>\n",
       "      <td>4</td>\n",
       "      <td>2017-12-20 17:20:00</td>\n",
       "      <td>16879256277535980062</td>\n",
       "    </tr>\n",
       "    <tr>\n",
       "      <td>1</td>\n",
       "      <td>desktop</td>\n",
       "      <td>2018-02-19 17:21:00</td>\n",
       "      <td>2</td>\n",
       "      <td>2018-02-19 16:53:00</td>\n",
       "      <td>104060357244891740</td>\n",
       "    </tr>\n",
       "    <tr>\n",
       "      <td>2</td>\n",
       "      <td>touch</td>\n",
       "      <td>2017-07-01 01:54:00</td>\n",
       "      <td>5</td>\n",
       "      <td>2017-07-01 01:54:00</td>\n",
       "      <td>7459035603376831527</td>\n",
       "    </tr>\n",
       "    <tr>\n",
       "      <td>3</td>\n",
       "      <td>desktop</td>\n",
       "      <td>2018-05-20 11:23:00</td>\n",
       "      <td>9</td>\n",
       "      <td>2018-05-20 10:59:00</td>\n",
       "      <td>16174680259334210214</td>\n",
       "    </tr>\n",
       "    <tr>\n",
       "      <td>4</td>\n",
       "      <td>desktop</td>\n",
       "      <td>2017-12-27 14:06:00</td>\n",
       "      <td>3</td>\n",
       "      <td>2017-12-27 14:06:00</td>\n",
       "      <td>9969694820036681168</td>\n",
       "    </tr>\n",
       "  </tbody>\n",
       "</table>\n",
       "</div>"
      ],
      "text/plain": [
       "    Device               End Ts  Source Id             Start Ts  \\\n",
       "0    touch  2017-12-20 17:38:00          4  2017-12-20 17:20:00   \n",
       "1  desktop  2018-02-19 17:21:00          2  2018-02-19 16:53:00   \n",
       "2    touch  2017-07-01 01:54:00          5  2017-07-01 01:54:00   \n",
       "3  desktop  2018-05-20 11:23:00          9  2018-05-20 10:59:00   \n",
       "4  desktop  2017-12-27 14:06:00          3  2017-12-27 14:06:00   \n",
       "\n",
       "                    Uid  \n",
       "0  16879256277535980062  \n",
       "1    104060357244891740  \n",
       "2   7459035603376831527  \n",
       "3  16174680259334210214  \n",
       "4   9969694820036681168  "
      ]
     },
     "execution_count": 2,
     "metadata": {},
     "output_type": "execute_result"
    }
   ],
   "source": [
    "visits = pd.read_csv('/datasets/visits_log.csv')\n",
    "\n",
    "visits.info()\n",
    "\n",
    "visits.head()"
   ]
  },
  {
   "cell_type": "markdown",
   "metadata": {},
   "source": [
    "В таблицу visits колонки Start Ts, End Ts необходимо привести к типу datetime, кроме того, колонку Source Id необходимо переименовать, чтобы ее название совпадало с названием колонки source_id в costs."
   ]
  },
  {
   "cell_type": "code",
   "execution_count": 3,
   "metadata": {},
   "outputs": [
    {
     "name": "stdout",
     "output_type": "stream",
     "text": [
      "<class 'pandas.core.frame.DataFrame'>\n",
      "RangeIndex: 359400 entries, 0 to 359399\n",
      "Data columns (total 5 columns):\n",
      "Device       359400 non-null object\n",
      "End Ts       359400 non-null datetime64[ns]\n",
      "source_id    359400 non-null int64\n",
      "Start Ts     359400 non-null datetime64[ns]\n",
      "Uid          359400 non-null uint64\n",
      "dtypes: datetime64[ns](2), int64(1), object(1), uint64(1)\n",
      "memory usage: 13.7+ MB\n"
     ]
    },
    {
     "data": {
      "text/html": [
       "<div>\n",
       "<style scoped>\n",
       "    .dataframe tbody tr th:only-of-type {\n",
       "        vertical-align: middle;\n",
       "    }\n",
       "\n",
       "    .dataframe tbody tr th {\n",
       "        vertical-align: top;\n",
       "    }\n",
       "\n",
       "    .dataframe thead th {\n",
       "        text-align: right;\n",
       "    }\n",
       "</style>\n",
       "<table border=\"1\" class=\"dataframe\">\n",
       "  <thead>\n",
       "    <tr style=\"text-align: right;\">\n",
       "      <th></th>\n",
       "      <th>Device</th>\n",
       "      <th>End Ts</th>\n",
       "      <th>source_id</th>\n",
       "      <th>Start Ts</th>\n",
       "      <th>Uid</th>\n",
       "    </tr>\n",
       "  </thead>\n",
       "  <tbody>\n",
       "    <tr>\n",
       "      <td>0</td>\n",
       "      <td>touch</td>\n",
       "      <td>2017-12-20 17:38:00</td>\n",
       "      <td>4</td>\n",
       "      <td>2017-12-20 17:20:00</td>\n",
       "      <td>16879256277535980062</td>\n",
       "    </tr>\n",
       "  </tbody>\n",
       "</table>\n",
       "</div>"
      ],
      "text/plain": [
       "  Device              End Ts  source_id            Start Ts  \\\n",
       "0  touch 2017-12-20 17:38:00          4 2017-12-20 17:20:00   \n",
       "\n",
       "                    Uid  \n",
       "0  16879256277535980062  "
      ]
     },
     "execution_count": 3,
     "metadata": {},
     "output_type": "execute_result"
    }
   ],
   "source": [
    "visits['Start Ts'] = pd.to_datetime(visits['Start Ts'])\n",
    "visits['End Ts'] = pd.to_datetime(visits['End Ts'])\n",
    "visits = visits.rename(columns = {'Source Id':'source_id'})\n",
    "\n",
    "visits.info()\n",
    "visits.head(1)"
   ]
  },
  {
   "cell_type": "markdown",
   "metadata": {},
   "source": [
    "Изучим датасет orders_log.csv:"
   ]
  },
  {
   "cell_type": "code",
   "execution_count": 4,
   "metadata": {},
   "outputs": [
    {
     "name": "stdout",
     "output_type": "stream",
     "text": [
      "<class 'pandas.core.frame.DataFrame'>\n",
      "RangeIndex: 50415 entries, 0 to 50414\n",
      "Data columns (total 3 columns):\n",
      "Buy Ts     50415 non-null object\n",
      "Revenue    50415 non-null float64\n",
      "Uid        50415 non-null uint64\n",
      "dtypes: float64(1), object(1), uint64(1)\n",
      "memory usage: 1.2+ MB\n"
     ]
    },
    {
     "data": {
      "text/html": [
       "<div>\n",
       "<style scoped>\n",
       "    .dataframe tbody tr th:only-of-type {\n",
       "        vertical-align: middle;\n",
       "    }\n",
       "\n",
       "    .dataframe tbody tr th {\n",
       "        vertical-align: top;\n",
       "    }\n",
       "\n",
       "    .dataframe thead th {\n",
       "        text-align: right;\n",
       "    }\n",
       "</style>\n",
       "<table border=\"1\" class=\"dataframe\">\n",
       "  <thead>\n",
       "    <tr style=\"text-align: right;\">\n",
       "      <th></th>\n",
       "      <th>Buy Ts</th>\n",
       "      <th>Revenue</th>\n",
       "      <th>Uid</th>\n",
       "    </tr>\n",
       "  </thead>\n",
       "  <tbody>\n",
       "    <tr>\n",
       "      <td>0</td>\n",
       "      <td>2017-06-01 00:10:00</td>\n",
       "      <td>17.00</td>\n",
       "      <td>10329302124590727494</td>\n",
       "    </tr>\n",
       "    <tr>\n",
       "      <td>1</td>\n",
       "      <td>2017-06-01 00:25:00</td>\n",
       "      <td>0.55</td>\n",
       "      <td>11627257723692907447</td>\n",
       "    </tr>\n",
       "    <tr>\n",
       "      <td>2</td>\n",
       "      <td>2017-06-01 00:27:00</td>\n",
       "      <td>0.37</td>\n",
       "      <td>17903680561304213844</td>\n",
       "    </tr>\n",
       "    <tr>\n",
       "      <td>3</td>\n",
       "      <td>2017-06-01 00:29:00</td>\n",
       "      <td>0.55</td>\n",
       "      <td>16109239769442553005</td>\n",
       "    </tr>\n",
       "    <tr>\n",
       "      <td>4</td>\n",
       "      <td>2017-06-01 07:58:00</td>\n",
       "      <td>0.37</td>\n",
       "      <td>14200605875248379450</td>\n",
       "    </tr>\n",
       "  </tbody>\n",
       "</table>\n",
       "</div>"
      ],
      "text/plain": [
       "                Buy Ts  Revenue                   Uid\n",
       "0  2017-06-01 00:10:00    17.00  10329302124590727494\n",
       "1  2017-06-01 00:25:00     0.55  11627257723692907447\n",
       "2  2017-06-01 00:27:00     0.37  17903680561304213844\n",
       "3  2017-06-01 00:29:00     0.55  16109239769442553005\n",
       "4  2017-06-01 07:58:00     0.37  14200605875248379450"
      ]
     },
     "execution_count": 4,
     "metadata": {},
     "output_type": "execute_result"
    }
   ],
   "source": [
    "orders = pd.read_csv('/datasets/orders_log.csv')\n",
    "\n",
    "orders.info()\n",
    "\n",
    "orders.head()"
   ]
  },
  {
   "cell_type": "markdown",
   "metadata": {},
   "source": [
    "В таблице orders колонку Buy Ts необходимо привести к типу datetime:"
   ]
  },
  {
   "cell_type": "code",
   "execution_count": 5,
   "metadata": {
    "scrolled": true
   },
   "outputs": [
    {
     "name": "stdout",
     "output_type": "stream",
     "text": [
      "<class 'pandas.core.frame.DataFrame'>\n",
      "RangeIndex: 50415 entries, 0 to 50414\n",
      "Data columns (total 3 columns):\n",
      "Buy Ts     50415 non-null datetime64[ns]\n",
      "Revenue    50415 non-null float64\n",
      "Uid        50415 non-null uint64\n",
      "dtypes: datetime64[ns](1), float64(1), uint64(1)\n",
      "memory usage: 1.2 MB\n"
     ]
    }
   ],
   "source": [
    "orders['Buy Ts'] = pd.to_datetime(orders['Buy Ts'])\n",
    "\n",
    "orders.info()"
   ]
  },
  {
   "cell_type": "markdown",
   "metadata": {},
   "source": [
    "Изучим датасет costs.csv:"
   ]
  },
  {
   "cell_type": "code",
   "execution_count": 6,
   "metadata": {},
   "outputs": [
    {
     "name": "stdout",
     "output_type": "stream",
     "text": [
      "<class 'pandas.core.frame.DataFrame'>\n",
      "RangeIndex: 2542 entries, 0 to 2541\n",
      "Data columns (total 3 columns):\n",
      "source_id    2542 non-null int64\n",
      "dt           2542 non-null object\n",
      "costs        2542 non-null float64\n",
      "dtypes: float64(1), int64(1), object(1)\n",
      "memory usage: 59.7+ KB\n"
     ]
    },
    {
     "data": {
      "text/html": [
       "<div>\n",
       "<style scoped>\n",
       "    .dataframe tbody tr th:only-of-type {\n",
       "        vertical-align: middle;\n",
       "    }\n",
       "\n",
       "    .dataframe tbody tr th {\n",
       "        vertical-align: top;\n",
       "    }\n",
       "\n",
       "    .dataframe thead th {\n",
       "        text-align: right;\n",
       "    }\n",
       "</style>\n",
       "<table border=\"1\" class=\"dataframe\">\n",
       "  <thead>\n",
       "    <tr style=\"text-align: right;\">\n",
       "      <th></th>\n",
       "      <th>source_id</th>\n",
       "      <th>dt</th>\n",
       "      <th>costs</th>\n",
       "    </tr>\n",
       "  </thead>\n",
       "  <tbody>\n",
       "    <tr>\n",
       "      <td>0</td>\n",
       "      <td>1</td>\n",
       "      <td>2017-06-01</td>\n",
       "      <td>75.20</td>\n",
       "    </tr>\n",
       "    <tr>\n",
       "      <td>1</td>\n",
       "      <td>1</td>\n",
       "      <td>2017-06-02</td>\n",
       "      <td>62.25</td>\n",
       "    </tr>\n",
       "    <tr>\n",
       "      <td>2</td>\n",
       "      <td>1</td>\n",
       "      <td>2017-06-03</td>\n",
       "      <td>36.53</td>\n",
       "    </tr>\n",
       "    <tr>\n",
       "      <td>3</td>\n",
       "      <td>1</td>\n",
       "      <td>2017-06-04</td>\n",
       "      <td>55.00</td>\n",
       "    </tr>\n",
       "    <tr>\n",
       "      <td>4</td>\n",
       "      <td>1</td>\n",
       "      <td>2017-06-05</td>\n",
       "      <td>57.08</td>\n",
       "    </tr>\n",
       "  </tbody>\n",
       "</table>\n",
       "</div>"
      ],
      "text/plain": [
       "   source_id          dt  costs\n",
       "0          1  2017-06-01  75.20\n",
       "1          1  2017-06-02  62.25\n",
       "2          1  2017-06-03  36.53\n",
       "3          1  2017-06-04  55.00\n",
       "4          1  2017-06-05  57.08"
      ]
     },
     "execution_count": 6,
     "metadata": {},
     "output_type": "execute_result"
    }
   ],
   "source": [
    "costs = pd.read_csv('/datasets/costs.csv')\n",
    "\n",
    "costs.info()\n",
    "\n",
    "costs.head()"
   ]
  },
  {
   "cell_type": "markdown",
   "metadata": {},
   "source": [
    "В таблице costs колонку dt необходимо привести к типу datetime:"
   ]
  },
  {
   "cell_type": "code",
   "execution_count": 7,
   "metadata": {
    "scrolled": true
   },
   "outputs": [
    {
     "name": "stdout",
     "output_type": "stream",
     "text": [
      "<class 'pandas.core.frame.DataFrame'>\n",
      "RangeIndex: 2542 entries, 0 to 2541\n",
      "Data columns (total 3 columns):\n",
      "source_id    2542 non-null int64\n",
      "dt           2542 non-null datetime64[ns]\n",
      "costs        2542 non-null float64\n",
      "dtypes: datetime64[ns](1), float64(1), int64(1)\n",
      "memory usage: 59.7 KB\n"
     ]
    }
   ],
   "source": [
    "costs['dt'] = pd.to_datetime(costs['dt'])\n",
    "\n",
    "costs.info()"
   ]
  },
  {
   "cell_type": "markdown",
   "metadata": {},
   "source": [
    "###  Шаг 2. Посчитаем метрики и построим отчеты"
   ]
  },
  {
   "cell_type": "markdown",
   "metadata": {},
   "source": [
    "#### 2.1 Продукты\n",
    "\n",
    " 2.1.1 Сколько людей пользуются в день, неделю, месяц?\n",
    " \n",
    "Для этого рассчитаем средние метрики DAU, WAU, MAU в разрезе по рекламным источникам и используемым девайсам:"
   ]
  },
  {
   "cell_type": "code",
   "execution_count": 8,
   "metadata": {},
   "outputs": [
    {
     "data": {
      "text/html": [
       "<div>\n",
       "<style scoped>\n",
       "    .dataframe tbody tr th:only-of-type {\n",
       "        vertical-align: middle;\n",
       "    }\n",
       "\n",
       "    .dataframe tbody tr th {\n",
       "        vertical-align: top;\n",
       "    }\n",
       "\n",
       "    .dataframe thead th {\n",
       "        text-align: right;\n",
       "    }\n",
       "</style>\n",
       "<table border=\"1\" class=\"dataframe\">\n",
       "  <thead>\n",
       "    <tr style=\"text-align: right;\">\n",
       "      <th></th>\n",
       "      <th>Device</th>\n",
       "      <th>End Ts</th>\n",
       "      <th>source_id</th>\n",
       "      <th>Start Ts</th>\n",
       "      <th>Uid</th>\n",
       "      <th>session_year</th>\n",
       "      <th>session_month</th>\n",
       "      <th>session_week</th>\n",
       "      <th>session_date</th>\n",
       "    </tr>\n",
       "  </thead>\n",
       "  <tbody>\n",
       "    <tr>\n",
       "      <td>0</td>\n",
       "      <td>touch</td>\n",
       "      <td>2017-12-20 17:38:00</td>\n",
       "      <td>4</td>\n",
       "      <td>2017-12-20 17:20:00</td>\n",
       "      <td>16879256277535980062</td>\n",
       "      <td>2017</td>\n",
       "      <td>12</td>\n",
       "      <td>51</td>\n",
       "      <td>2017-12-20</td>\n",
       "    </tr>\n",
       "    <tr>\n",
       "      <td>1</td>\n",
       "      <td>desktop</td>\n",
       "      <td>2018-02-19 17:21:00</td>\n",
       "      <td>2</td>\n",
       "      <td>2018-02-19 16:53:00</td>\n",
       "      <td>104060357244891740</td>\n",
       "      <td>2018</td>\n",
       "      <td>2</td>\n",
       "      <td>8</td>\n",
       "      <td>2018-02-19</td>\n",
       "    </tr>\n",
       "    <tr>\n",
       "      <td>2</td>\n",
       "      <td>touch</td>\n",
       "      <td>2017-07-01 01:54:00</td>\n",
       "      <td>5</td>\n",
       "      <td>2017-07-01 01:54:00</td>\n",
       "      <td>7459035603376831527</td>\n",
       "      <td>2017</td>\n",
       "      <td>7</td>\n",
       "      <td>26</td>\n",
       "      <td>2017-07-01</td>\n",
       "    </tr>\n",
       "    <tr>\n",
       "      <td>3</td>\n",
       "      <td>desktop</td>\n",
       "      <td>2018-05-20 11:23:00</td>\n",
       "      <td>9</td>\n",
       "      <td>2018-05-20 10:59:00</td>\n",
       "      <td>16174680259334210214</td>\n",
       "      <td>2018</td>\n",
       "      <td>5</td>\n",
       "      <td>20</td>\n",
       "      <td>2018-05-20</td>\n",
       "    </tr>\n",
       "    <tr>\n",
       "      <td>4</td>\n",
       "      <td>desktop</td>\n",
       "      <td>2017-12-27 14:06:00</td>\n",
       "      <td>3</td>\n",
       "      <td>2017-12-27 14:06:00</td>\n",
       "      <td>9969694820036681168</td>\n",
       "      <td>2017</td>\n",
       "      <td>12</td>\n",
       "      <td>52</td>\n",
       "      <td>2017-12-27</td>\n",
       "    </tr>\n",
       "  </tbody>\n",
       "</table>\n",
       "</div>"
      ],
      "text/plain": [
       "    Device              End Ts  source_id            Start Ts  \\\n",
       "0    touch 2017-12-20 17:38:00          4 2017-12-20 17:20:00   \n",
       "1  desktop 2018-02-19 17:21:00          2 2018-02-19 16:53:00   \n",
       "2    touch 2017-07-01 01:54:00          5 2017-07-01 01:54:00   \n",
       "3  desktop 2018-05-20 11:23:00          9 2018-05-20 10:59:00   \n",
       "4  desktop 2017-12-27 14:06:00          3 2017-12-27 14:06:00   \n",
       "\n",
       "                    Uid  session_year  session_month  session_week  \\\n",
       "0  16879256277535980062          2017             12            51   \n",
       "1    104060357244891740          2018              2             8   \n",
       "2   7459035603376831527          2017              7            26   \n",
       "3  16174680259334210214          2018              5            20   \n",
       "4   9969694820036681168          2017             12            52   \n",
       "\n",
       "  session_date  \n",
       "0   2017-12-20  \n",
       "1   2018-02-19  \n",
       "2   2017-07-01  \n",
       "3   2018-05-20  \n",
       "4   2017-12-27  "
      ]
     },
     "execution_count": 8,
     "metadata": {},
     "output_type": "execute_result"
    }
   ],
   "source": [
    "#чтобы посчитать недельное и месячное использование, выделим в отдельные столбцы год, месяц и неделю, а также полную дату.\n",
    "\n",
    "visits['session_year']  = visits['Start Ts'].dt.year\n",
    "visits['session_month'] = visits['Start Ts'].dt.month\n",
    "visits['session_week']  = visits['Start Ts'].dt.week\n",
    "visits['session_date'] = visits['Start Ts'].dt.date\n",
    "\n",
    "visits.head()"
   ]
  },
  {
   "cell_type": "markdown",
   "metadata": {},
   "source": [
    "DAU"
   ]
  },
  {
   "cell_type": "code",
   "execution_count": 9,
   "metadata": {},
   "outputs": [
    {
     "name": "stdout",
     "output_type": "stream",
     "text": [
      "DAU: 907\n"
     ]
    }
   ],
   "source": [
    "#посчитаем среднее количество уникальных пользователей Я.Афиша в день:\n",
    "dau_total = visits.groupby('session_date').agg({'Uid': 'nunique'}).mean()\n",
    "\n",
    "print('DAU:', int(dau_total))"
   ]
  },
  {
   "cell_type": "code",
   "execution_count": 10,
   "metadata": {
    "scrolled": false
   },
   "outputs": [
    {
     "data": {
      "text/plain": [
       "[Text(0, 0.5, 'среднее DAU'), Text(0.5, 0, 'ID рекламного источника')]"
      ]
     },
     "execution_count": 10,
     "metadata": {},
     "output_type": "execute_result"
    },
    {
     "data": {
      "image/png": "[encoded data removed]",
      "text/plain": [
       "<Figure size 720x360 with 1 Axes>"
      ]
     },
     "metadata": {
      "needs_background": "light"
     },
     "output_type": "display_data"
    }
   ],
   "source": [
    "#dau по рекламным источникам\n",
    "sources_dau = visits.groupby(['source_id','session_date']).agg({'Uid': 'nunique'}).groupby(\n",
    "    ['source_id']).agg({'Uid': 'mean'})\n",
    "\n",
    "sources_dau = sources_dau.reset_index()\n",
    "\n",
    "fig, ax = pyplot.subplots(figsize=(10, 5))\n",
    "\n",
    "sns.barplot(x='source_id', y='Uid', data=sources_dau)\n",
    "ax.set_title('среднее DAU по рекламным источникам')\n",
    "ax.set(xlabel='ID рекламного источника', ylabel='среднее DAU')"
   ]
  },
  {
   "cell_type": "code",
   "execution_count": 11,
   "metadata": {},
   "outputs": [
    {
     "data": {
      "text/plain": [
       "[Text(0, 0.5, 'среднее DAU'), Text(0.5, 0, 'Используемое устройство')]"
      ]
     },
     "execution_count": 11,
     "metadata": {},
     "output_type": "execute_result"
    },
    {
     "data": {
      "image/png": "[encoded data removed]",
      "text/plain": [
       "<Figure size 720x360 with 1 Axes>"
      ]
     },
     "metadata": {
      "needs_background": "light"
     },
     "output_type": "display_data"
    }
   ],
   "source": [
    "#dau по девайсам\n",
    "sources_dau = visits.groupby(['Device','session_date']).agg({'Uid': 'nunique'}).groupby(\n",
    "    ['Device']).agg({'Uid': 'mean'})\n",
    "\n",
    "sources_dau = sources_dau.reset_index()\n",
    "\n",
    "fig, ax = pyplot.subplots(figsize=(10, 5))\n",
    "\n",
    "sns.barplot(x='Device', y='Uid', data=sources_dau)\n",
    "ax.set_title('среднее DAU с июня 2017 по девайсам')\n",
    "ax.set(xlabel='Используемое устройство', ylabel='среднее DAU')"
   ]
  },
  {
   "cell_type": "markdown",
   "metadata": {},
   "source": [
    "WAU"
   ]
  },
  {
   "cell_type": "code",
   "execution_count": 12,
   "metadata": {},
   "outputs": [
    {
     "name": "stdout",
     "output_type": "stream",
     "text": [
      "WAU 5716\n"
     ]
    }
   ],
   "source": [
    "#посчитаем среднее количество уникальных пользователей Я.Афиша в неделю:\n",
    "wau_total = visits.groupby(['session_year', 'session_week']).agg({'Uid': 'nunique'}).mean()\n",
    "\n",
    "print('WAU', int(wau_total)) "
   ]
  },
  {
   "cell_type": "code",
   "execution_count": 13,
   "metadata": {
    "scrolled": false
   },
   "outputs": [
    {
     "data": {
      "text/plain": [
       "[Text(0, 0.5, 'среднее WAU'), Text(0.5, 0, 'ID рекламного источника')]"
      ]
     },
     "execution_count": 13,
     "metadata": {},
     "output_type": "execute_result"
    },
    {
     "data": {
      "image/png": "[encoded data removed]",
      "text/plain": [
       "<Figure size 720x360 with 1 Axes>"
      ]
     },
     "metadata": {
      "needs_background": "light"
     },
     "output_type": "display_data"
    }
   ],
   "source": [
    "#wau по рекламным источникам\n",
    "\n",
    "sources_wau = visits.groupby(['source_id','session_year', 'session_week']).agg({'Uid': 'nunique'}).groupby(\n",
    "    ['source_id']).agg({'Uid': 'mean'})\n",
    "\n",
    "sources_wau = sources_wau.reset_index()\n",
    "\n",
    "fig, ax = pyplot.subplots(figsize=(10, 5))\n",
    "\n",
    "sns.barplot(x='source_id', y='Uid', data=sources_wau)\n",
    "ax.set_title('среднее WAU с июня 2017 по рекламным источникам')\n",
    "ax.set(xlabel='ID рекламного источника', ylabel='среднее WAU')"
   ]
  },
  {
   "cell_type": "code",
   "execution_count": 14,
   "metadata": {},
   "outputs": [
    {
     "data": {
      "text/plain": [
       "[Text(0, 0.5, 'среднее WAU'), Text(0.5, 0, 'Используемое устройство')]"
      ]
     },
     "execution_count": 14,
     "metadata": {},
     "output_type": "execute_result"
    },
    {
     "data": {
      "image/png": "[encoded data removed]",
      "text/plain": [
       "<Figure size 720x360 with 1 Axes>"
      ]
     },
     "metadata": {
      "needs_background": "light"
     },
     "output_type": "display_data"
    }
   ],
   "source": [
    "#wau по девайсам\n",
    "\n",
    "sources_wau = visits.groupby(['Device', 'session_year', 'session_week']).agg({'Uid': 'nunique'}).groupby(\n",
    "    ['Device']).agg({'Uid': 'mean'})\n",
    "\n",
    "sources_wau = sources_wau.reset_index()\n",
    "\n",
    "fig, ax = pyplot.subplots(figsize=(10, 5))\n",
    "\n",
    "sns.barplot(x='Device', y='Uid', data=sources_wau)\n",
    "ax.set_title('среднее WAU с июня 2017 по девайсам')\n",
    "ax.set(xlabel='Используемое устройство', ylabel='среднее WAU')"
   ]
  },
  {
   "cell_type": "markdown",
   "metadata": {},
   "source": [
    "MAU"
   ]
  },
  {
   "cell_type": "code",
   "execution_count": 15,
   "metadata": {},
   "outputs": [
    {
     "name": "stdout",
     "output_type": "stream",
     "text": [
      "MAU 23228\n"
     ]
    }
   ],
   "source": [
    "#посчитаем среднее количество уникальных пользователей Я.Афиша в месяц:\n",
    "mau_total = visits.groupby(['session_year', 'session_month']).agg({'Uid': 'nunique'}).mean()\n",
    "\n",
    "print('MAU', int(mau_total))  "
   ]
  },
  {
   "cell_type": "code",
   "execution_count": 16,
   "metadata": {
    "scrolled": false
   },
   "outputs": [
    {
     "data": {
      "text/plain": [
       "[Text(0, 0.5, 'среднее MAU'), Text(0.5, 0, 'ID рекламного источника')]"
      ]
     },
     "execution_count": 16,
     "metadata": {},
     "output_type": "execute_result"
    },
    {
     "data": {
      "image/png": "[encoded data removed]",
      "text/plain": [
       "<Figure size 720x360 with 1 Axes>"
      ]
     },
     "metadata": {
      "needs_background": "light"
     },
     "output_type": "display_data"
    }
   ],
   "source": [
    "#wau по рекламным источникам\n",
    "\n",
    "sources_mau = visits.groupby(['source_id', 'session_year', 'session_month']).agg({'Uid': 'nunique'}).groupby(\n",
    "    ['source_id']).agg({'Uid': 'mean'})\n",
    "\n",
    "sources_mau = sources_mau.reset_index()\n",
    "\n",
    "fig, ax = pyplot.subplots(figsize=(10, 5))\n",
    "\n",
    "sns.barplot(x='source_id', y='Uid', data=sources_mau)\n",
    "ax.set_title('среднее MAU с июня 2017 по рекламным источникам')\n",
    "ax.set(xlabel='ID рекламного источника', ylabel='среднее MAU')"
   ]
  },
  {
   "cell_type": "code",
   "execution_count": 17,
   "metadata": {},
   "outputs": [
    {
     "data": {
      "text/plain": [
       "[Text(0, 0.5, 'среднее MAU'), Text(0.5, 0, 'Используемое устройство')]"
      ]
     },
     "execution_count": 17,
     "metadata": {},
     "output_type": "execute_result"
    },
    {
     "data": {
      "image/png": "[encoded data removed]",
      "text/plain": [
       "<Figure size 720x360 with 1 Axes>"
      ]
     },
     "metadata": {
      "needs_background": "light"
     },
     "output_type": "display_data"
    }
   ],
   "source": [
    "#mau по девайсам\n",
    "\n",
    "sources_mau = visits.groupby(['Device', 'session_year', 'session_month']).agg({'Uid': 'nunique'}).groupby(\n",
    "    ['Device']).agg({'Uid': 'mean'})\n",
    "\n",
    "sources_mau = sources_mau.reset_index()\n",
    "\n",
    "fig, ax = pyplot.subplots(figsize=(10, 5))\n",
    "\n",
    "sns.barplot(x='Device', y='Uid', data=sources_mau)\n",
    "ax.set_title('среднее MAU с июня 2017 по девайсам')\n",
    "ax.set(xlabel='Используемое устройство', ylabel='среднее MAU')"
   ]
  },
  {
   "cell_type": "markdown",
   "metadata": {},
   "source": [
    "В среднем Я.Афишей пользуются 907 человек в день, 5716 в неделю, 23228 в месяц.\n",
    "Большинство пользователей заходят на ресурс с десктопов. \n",
    "Независимо от исследуемого периода, большая часть пользователей пришла из рекламных источников 4, 3, 5. \n",
    "Меньше всего пользователей привели источники 6 и 7. Либо эти источники не популярны у ЦА Я.Афиши, либо используются недавно."
   ]
  },
  {
   "cell_type": "markdown",
   "metadata": {},
   "source": [
    " 2.1.2 Изучим, сколько сессий в день совершают пользователи:"
   ]
  },
  {
   "cell_type": "code",
   "execution_count": 18,
   "metadata": {
    "scrolled": true
   },
   "outputs": [
    {
     "name": "stdout",
     "output_type": "stream",
     "text": [
      "Среднее количество сессий в день: 1003\n"
     ]
    }
   ],
   "source": [
    "#посчитаем среднее количество сессий в день:\n",
    "session_average = visits.groupby('session_date').agg({'Uid': 'count'}).median()\n",
    "\n",
    "print('Среднее количество сессий в день:', int(session_average))"
   ]
  },
  {
   "cell_type": "code",
   "execution_count": 19,
   "metadata": {
    "scrolled": false
   },
   "outputs": [
    {
     "data": {
      "text/plain": [
       "[Text(0, 0.5, 'кол-во сессий в день'), Text(0.5, 0, 'дата')]"
      ]
     },
     "execution_count": 19,
     "metadata": {},
     "output_type": "execute_result"
    },
    {
     "data": {
      "image/png": "[encoded data removed]",
      "text/plain": [
       "<Figure size 720x360 with 1 Axes>"
      ]
     },
     "metadata": {
      "needs_background": "light"
     },
     "output_type": "display_data"
    }
   ],
   "source": [
    "#посмотрим, как менялось среднее количество сессий в день по месяцам:\n",
    "visits['year_month'] = visits['Start Ts'].dt.strftime('%Y-%m')\n",
    "\n",
    "monthly_sessions = visits.groupby(['year_month','session_date']).agg({'Uid': 'count'}).groupby(\n",
    "    ['year_month']).agg({'Uid': 'median'}).reset_index()\n",
    "\n",
    "fig, ax = pyplot.subplots(figsize=(10, 5))\n",
    "sns.lineplot(x='year_month', y='Uid', data=monthly_sessions)\n",
    "ax.set_title('Среднее количество сессий в день по месяцам')\n",
    "ax.set(xlabel='дата', ylabel='кол-во сессий в день')"
   ]
  },
  {
   "cell_type": "markdown",
   "metadata": {},
   "source": [
    "Если рассматривать общую картину, то среднее количество сессий в день - 1003. Большая их часть совершается на десктопе. \n",
    "Однако, если смотреть на динамику среднего количества сессий в день по месяцам, то видно, что с осени активность пользователей растет - они чаще заходят на Я.Афишу. Пика пользовательская активность достигает в декабре и к весне она снова постепенно снижается."
   ]
  },
  {
   "cell_type": "markdown",
   "metadata": {},
   "source": [
    " 2.1.3 Изучим, сколько в среднем длится сессия:"
   ]
  },
  {
   "cell_type": "code",
   "execution_count": 20,
   "metadata": {},
   "outputs": [
    {
     "data": {
      "text/plain": [
       "Text(0.5, 1, 'Длительность сессий')"
      ]
     },
     "execution_count": 20,
     "metadata": {},
     "output_type": "execute_result"
    },
    {
     "data": {
      "image/png": "[encoded data removed]",
      "text/plain": [
       "<Figure size 432x288 with 1 Axes>"
      ]
     },
     "metadata": {
      "needs_background": "light"
     },
     "output_type": "display_data"
    }
   ],
   "source": [
    "#посчитаем длительность сессий у пользователей в секундах\n",
    "\n",
    "visits['session_length'] = (visits['End Ts'] - visits['Start Ts']).dt.total_seconds()\n",
    "\n",
    "#построим график распределения длительности сессий\n",
    "sns.boxplot(y=\"session_length\", data=visits)\n",
    "plt.ylim(0, 4000)\n",
    "ax.set_title('Длительность сессий')"
   ]
  },
  {
   "cell_type": "code",
   "execution_count": 21,
   "metadata": {},
   "outputs": [
    {
     "name": "stdout",
     "output_type": "stream",
     "text": [
      "Средняя длительность сессии: 300 секунд\n"
     ]
    }
   ],
   "source": [
    "#посчитаем  среднюю длительность сессий как медиану\n",
    "average_sessions_length = visits['session_length'].median()\n",
    "\n",
    "print('Средняя длительность сессии:', int(average_sessions_length), 'секунд')"
   ]
  },
  {
   "cell_type": "code",
   "execution_count": 22,
   "metadata": {},
   "outputs": [
    {
     "name": "stdout",
     "output_type": "stream",
     "text": [
      "Чаще всего сессия длится: 60 секунд\n"
     ]
    }
   ],
   "source": [
    "#так как распределение отличается от нормального, посчитаем  среднюю длительность сессий как моду\n",
    "avg_sessions_length = visits['session_length'].mode()\n",
    "\n",
    "print('Чаще всего сессия длится:', int(avg_sessions_length), 'секунд')"
   ]
  },
  {
   "cell_type": "markdown",
   "metadata": {},
   "source": [
    "Медианная длительность сессии - 300 секунд, это 5 минут. \n",
    "\n",
    "Но чаще всего сессия длится 1 минуту. \n",
    "\n",
    "Из этого можно сделать вывод, что люди не проводят на сайте много времени - скорее всего заходят целенаправленно. \n",
    "\n",
    "Смущает, что 1 минута - самая распространненная длительность сессии. Сложно за минуту выбрать куда пойти и, тем более,купить билет.\n",
    "Могут это быть боты? Или сервис неудобный? "
   ]
  },
  {
   "cell_type": "markdown",
   "metadata": {},
   "source": [
    " 2.1.4 Изучим, как часто люди возвращаются.\n",
    " \n",
    " Для этого нам нужно построить когорты и рассчитать retention rate."
   ]
  },
  {
   "cell_type": "code",
   "execution_count": 23,
   "metadata": {
    "collapsed": true
   },
   "outputs": [],
   "source": [
    "#найдем дату, когда пользователь впервые проявил активность на Я.Афише:\n",
    "\n",
    "first_activity_date = visits.groupby(['Uid'])['session_date'].min()\n",
    "first_activity_date.name = 'first_activity_date'\n",
    "visits = visits.join(first_activity_date,on='Uid') "
   ]
  },
  {
   "cell_type": "code",
   "execution_count": 24,
   "metadata": {
    "collapsed": true
   },
   "outputs": [],
   "source": [
    "#выделим первый месяц, когда пользователь был активен\n",
    "visits['first_activity_month'] = visits['first_activity_date'].astype('datetime64[M]')\n",
    "visits['activity_month'] = visits['session_date'].astype('datetime64[M]')"
   ]
  },
  {
   "cell_type": "code",
   "execution_count": 25,
   "metadata": {
    "collapsed": true
   },
   "outputs": [],
   "source": [
    "#выделим длительность позования сервисом\n",
    "visits['cohort_lifetime'] = visits['activity_month'] - visits['first_activity_month']\n",
    "visits['cohort_lifetime'] = visits['cohort_lifetime'] / np.timedelta64(1,'M')\n",
    "visits['cohort_lifetime'] = round(visits['cohort_lifetime']).astype('int') "
   ]
  },
  {
   "cell_type": "code",
   "execution_count": 26,
   "metadata": {
    "collapsed": true
   },
   "outputs": [],
   "source": [
    "#построим когорты\n",
    "cohorts = visits.groupby(['first_activity_month','cohort_lifetime']).agg({'Uid':'nunique'}).reset_index() \n",
    "\n",
    "initial_users_count = cohorts[cohorts['cohort_lifetime'] == 0][['first_activity_month','Uid']]\n",
    "initial_users_count = initial_users_count.rename(columns={'Uid':'cohort_users'}) \n",
    "\n",
    "cohorts = cohorts.merge(initial_users_count,on='first_activity_month') \n",
    "\n",
    "cohorts['retention'] = cohorts['Uid']/cohorts['cohort_users'] \n",
    "\n",
    "retention_pivot = cohorts[cohorts['cohort_lifetime'] != 0].pivot_table(index='first_activity_month',\n",
    "                                      columns='cohort_lifetime',\n",
    "                                      values='retention',aggfunc='sum') \n"
   ]
  },
  {
   "cell_type": "code",
   "execution_count": 27,
   "metadata": {
    "scrolled": false
   },
   "outputs": [
    {
     "data": {
      "image/png": "[encoded data removed]",
      "text/plain": [
       "<Figure size 936x648 with 2 Axes>"
      ]
     },
     "metadata": {},
     "output_type": "display_data"
    }
   ],
   "source": [
    "#построим тепловую карту\n",
    "sns.set(style='white')\n",
    "plt.figure(figsize=(13, 9))\n",
    "plt.title('Cohorts: User Retention')\n",
    "sns.heatmap(retention_pivot, annot=True, fmt='.2%', linewidths=1, linecolor='gray'); "
   ]
  },
  {
   "cell_type": "markdown",
   "metadata": {},
   "source": [
    "Процент вернувшихся пользователей в каждой когорте очень низкий: более 90% пользователей не возвращаются. Вероятно, пользователи приходили ради конкретного мероприятия, а потом возвращались только те, кто в принципе часто ходит по выставкам/концертам и тд. Или, возможно, дело в том, что в 2017-2018 годах сервис был не очень удобен для планирования досуга."
   ]
  },
  {
   "cell_type": "markdown",
   "metadata": {},
   "source": [
    "#### 2.2 Продажи\n",
    "\n",
    " 2.2.1 Когда люди начинают покупать?\n"
   ]
  },
  {
   "cell_type": "code",
   "execution_count": 28,
   "metadata": {
    "collapsed": true
   },
   "outputs": [],
   "source": [
    "#найдем дату первой покупки для каждого пользователя:\n",
    "first_order_date = pd.DataFrame(orders.groupby(['Uid'])['Buy Ts'].min()).reset_index()\n",
    "first_order_date = first_order_date.rename(columns = {'Buy Ts':'first_order_date'})"
   ]
  },
  {
   "cell_type": "code",
   "execution_count": 29,
   "metadata": {
    "collapsed": true
   },
   "outputs": [],
   "source": [
    "#объединим данные о первых посещениях и данные первой покупке и посчитаем разницу в днях \n",
    "\n",
    "visits_orders = first_order_date.join(first_activity_date,on='Uid') \n",
    "\n",
    "visits_orders['first_activity_date'] = pd.to_datetime(visits_orders['first_activity_date']) \n",
    "\n",
    "visits_orders['days_to_event'] = ((visits_orders['first_order_date'] - \n",
    "                                  visits_orders['first_activity_date'])/ np.timedelta64(1,'D')).astype('int')"
   ]
  },
  {
   "cell_type": "code",
   "execution_count": 30,
   "metadata": {
    "scrolled": true
   },
   "outputs": [
    {
     "name": "stdout",
     "output_type": "stream",
     "text": [
      "В среднем люди начинают покупать через 0 дней\n"
     ]
    }
   ],
   "source": [
    "print('В среднем люди начинают покупать через',(int(visits_orders['days_to_event'].median())), 'дней')"
   ]
  },
  {
   "cell_type": "markdown",
   "metadata": {},
   "source": [
    "Найдем, через сколько минут после первой сессии покупают пользователи:"
   ]
  },
  {
   "cell_type": "code",
   "execution_count": 31,
   "metadata": {
    "collapsed": true
   },
   "outputs": [],
   "source": [
    "first_activity_time = visits.groupby(['Uid'])['Start Ts'].min()\n",
    "first_activity_time.name = 'first_activity_time'\n",
    "first_order_delay = first_order_date.join(first_activity_time,on='Uid') \n",
    "\n",
    "first_order_delay['first_activity_time'] = pd.to_datetime(first_order_delay['first_activity_time']) \n",
    "\n",
    "first_order_delay['time_to_event'] = ((first_order_delay['first_order_date'] - \n",
    "                                  first_order_delay['first_activity_time'])/ np.timedelta64(1,'m')).astype('int')"
   ]
  },
  {
   "cell_type": "code",
   "execution_count": 32,
   "metadata": {},
   "outputs": [
    {
     "name": "stdout",
     "output_type": "stream",
     "text": [
      "В среднем люди начинают покупать через 16 минут\n"
     ]
    }
   ],
   "source": [
    "print('В среднем люди начинают покупать через',(int(first_order_delay['time_to_event'].median())), 'минут')"
   ]
  },
  {
   "cell_type": "markdown",
   "metadata": {},
   "source": [
    " 2.2.2 Сколько раз покупают за период?"
   ]
  },
  {
   "cell_type": "code",
   "execution_count": 33,
   "metadata": {
    "collapsed": true
   },
   "outputs": [],
   "source": [
    "#выделим месяц покупки\n",
    "\n",
    "orders['order_month'] = orders['Buy Ts'].astype('datetime64[M]')"
   ]
  },
  {
   "cell_type": "code",
   "execution_count": 34,
   "metadata": {},
   "outputs": [
    {
     "data": {
      "text/html": [
       "<div>\n",
       "<style scoped>\n",
       "    .dataframe tbody tr th:only-of-type {\n",
       "        vertical-align: middle;\n",
       "    }\n",
       "\n",
       "    .dataframe tbody tr th {\n",
       "        vertical-align: top;\n",
       "    }\n",
       "\n",
       "    .dataframe thead th {\n",
       "        text-align: right;\n",
       "    }\n",
       "</style>\n",
       "<table border=\"1\" class=\"dataframe\">\n",
       "  <thead>\n",
       "    <tr style=\"text-align: right;\">\n",
       "      <th></th>\n",
       "      <th>orders_num</th>\n",
       "    </tr>\n",
       "    <tr>\n",
       "      <th>order_month</th>\n",
       "      <th></th>\n",
       "    </tr>\n",
       "  </thead>\n",
       "  <tbody>\n",
       "    <tr>\n",
       "      <td>2017-06-01</td>\n",
       "      <td>1</td>\n",
       "    </tr>\n",
       "    <tr>\n",
       "      <td>2017-07-01</td>\n",
       "      <td>1</td>\n",
       "    </tr>\n",
       "    <tr>\n",
       "      <td>2017-08-01</td>\n",
       "      <td>1</td>\n",
       "    </tr>\n",
       "    <tr>\n",
       "      <td>2017-09-01</td>\n",
       "      <td>1</td>\n",
       "    </tr>\n",
       "    <tr>\n",
       "      <td>2017-10-01</td>\n",
       "      <td>1</td>\n",
       "    </tr>\n",
       "    <tr>\n",
       "      <td>2017-11-01</td>\n",
       "      <td>1</td>\n",
       "    </tr>\n",
       "    <tr>\n",
       "      <td>2017-12-01</td>\n",
       "      <td>1</td>\n",
       "    </tr>\n",
       "    <tr>\n",
       "      <td>2018-01-01</td>\n",
       "      <td>1</td>\n",
       "    </tr>\n",
       "    <tr>\n",
       "      <td>2018-02-01</td>\n",
       "      <td>1</td>\n",
       "    </tr>\n",
       "    <tr>\n",
       "      <td>2018-03-01</td>\n",
       "      <td>1</td>\n",
       "    </tr>\n",
       "    <tr>\n",
       "      <td>2018-04-01</td>\n",
       "      <td>1</td>\n",
       "    </tr>\n",
       "    <tr>\n",
       "      <td>2018-05-01</td>\n",
       "      <td>1</td>\n",
       "    </tr>\n",
       "    <tr>\n",
       "      <td>2018-06-01</td>\n",
       "      <td>1</td>\n",
       "    </tr>\n",
       "  </tbody>\n",
       "</table>\n",
       "</div>"
      ],
      "text/plain": [
       "             orders_num\n",
       "order_month            \n",
       "2017-06-01            1\n",
       "2017-07-01            1\n",
       "2017-08-01            1\n",
       "2017-09-01            1\n",
       "2017-10-01            1\n",
       "2017-11-01            1\n",
       "2017-12-01            1\n",
       "2018-01-01            1\n",
       "2018-02-01            1\n",
       "2018-03-01            1\n",
       "2018-04-01            1\n",
       "2018-05-01            1\n",
       "2018-06-01            1"
      ]
     },
     "execution_count": 34,
     "metadata": {},
     "output_type": "execute_result"
    }
   ],
   "source": [
    "#посчитаем, сколько покупой делает каждый пользователь за месяц и\n",
    "#посчитаем среднее количество покупок на каждого пользователя за месяц\n",
    "\n",
    "orders_count = orders.groupby(['order_month', 'Uid'])['Uid'].count()\n",
    "orders_count.name = 'orders_num'\n",
    "orders_count = pd.DataFrame(orders_count)\n",
    "orders_avg = orders_count.pivot_table(\n",
    "    index='order_month', values='orders_num',aggfunc='median') \n",
    "\n",
    "orders_avg"
   ]
  },
  {
   "cell_type": "markdown",
   "metadata": {},
   "source": [
    "В среднем в месяц пользователи делают по одной покупке"
   ]
  },
  {
   "cell_type": "code",
   "execution_count": 35,
   "metadata": {},
   "outputs": [
    {
     "data": {
      "text/plain": [
       "[Text(0, 0.5, 'средняя длительность сессии'), Text(0.5, 0, 'дата')]"
      ]
     },
     "execution_count": 35,
     "metadata": {},
     "output_type": "execute_result"
    },
    {
     "data": {
      "image/png": "[encoded data removed]",
      "text/plain": [
       "<Figure size 1440x360 with 1 Axes>"
      ]
     },
     "metadata": {},
     "output_type": "display_data"
    }
   ],
   "source": [
    "#посчитаем, сколько покупой сделали в месяц в общем: \n",
    "\n",
    "orders_total = orders_count.pivot_table(\n",
    "    index='order_month', values='orders_num',aggfunc='sum').reset_index() \n",
    "orders_total['order_month'] = orders_total['order_month'].dt.strftime('%Y-%m')\n",
    "\n",
    "fig, ax = pyplot.subplots(figsize=(20, 5))\n",
    "sns.lineplot(x='order_month', y='orders_num', data=orders_total)\n",
    "\n",
    "ax.set_title('Средняя длительность сессии по месяцам и рекламным источникам')\n",
    "ax.set(xlabel='дата', ylabel='средняя длительность сессии')"
   ]
  },
  {
   "cell_type": "markdown",
   "metadata": {},
   "source": [
    "В количестве покупок и тут наблюдается сезонность: больше всего покупают осенью и зимой. "
   ]
  },
  {
   "cell_type": "markdown",
   "metadata": {},
   "source": [
    "Посчитаем, сколько покупок делают в месяц по рекламным источникам:"
   ]
  },
  {
   "cell_type": "code",
   "execution_count": 36,
   "metadata": {},
   "outputs": [
    {
     "data": {
      "text/plain": [
       "[Text(0, 0.5, 'Количество заказов'), Text(0.5, 0, 'Месяц')]"
      ]
     },
     "execution_count": 36,
     "metadata": {},
     "output_type": "execute_result"
    },
    {
     "data": {
      "image/png": "[encoded data removed]",
      "text/plain": [
       "<Figure size 1800x720 with 1 Axes>"
      ]
     },
     "metadata": {},
     "output_type": "display_data"
    }
   ],
   "source": [
    "source_orders = visits[['source_id', 'Uid', 'End Ts', 'Start Ts']].merge(orders, on = ['Uid'])\n",
    "\n",
    "source_orders = source_orders[(source_orders['Start Ts'] <= source_orders['Buy Ts']) & \n",
    "              (source_orders['Buy Ts']<= source_orders['End Ts'])]\n",
    "\n",
    "source_rev = source_orders.pivot_table(\n",
    "    index=['source_id', 'order_month'], values='Uid',aggfunc='count').reset_index() \n",
    "source_rev['order_month'] = source_rev['order_month'].dt.strftime('%Y-%m')\n",
    "\n",
    "fig, ax = pyplot.subplots(figsize=(25, 10))\n",
    "sns.barplot(x='order_month', y='Uid', hue = 'source_id', data=source_rev)\n",
    "\n",
    "ax.set_title('Количество заказов по рекламным источникам по месяцам')\n",
    "ax.set(xlabel='Месяц', ylabel='Количество заказов')"
   ]
  },
  {
   "cell_type": "markdown",
   "metadata": {},
   "source": [
    "Чаще всех покупали пользователи трех источников: 4, 5, 3\n",
    "\n",
    "Реже всех - пользователи 7, 9, 10 источников"
   ]
  },
  {
   "cell_type": "markdown",
   "metadata": {},
   "source": [
    " 2.2.3 Найдем средний чек "
   ]
  },
  {
   "cell_type": "code",
   "execution_count": 37,
   "metadata": {},
   "outputs": [
    {
     "name": "stdout",
     "output_type": "stream",
     "text": [
      "Среднее количество заказов на одного пользователя: 1.0\n"
     ]
    }
   ],
   "source": [
    "#посчитаем среднее количество заказов на пользователя\n",
    "print('Среднее количество заказов на одного пользователя:',orders.groupby('Uid').agg({'Uid': 'count'}).median()[0])"
   ]
  },
  {
   "cell_type": "code",
   "execution_count": 38,
   "metadata": {},
   "outputs": [
    {
     "name": "stdout",
     "output_type": "stream",
     "text": [
      "Средний чек - 5.0\n"
     ]
    }
   ],
   "source": [
    "#найдем средний чек\n",
    "print('Средний чек -',round(orders['Revenue'].mean(),2))"
   ]
  },
  {
   "cell_type": "code",
   "execution_count": 39,
   "metadata": {},
   "outputs": [
    {
     "data": {
      "text/plain": [
       "[Text(0, 0.5, 'средний чек'), Text(0.5, 0, 'месяц')]"
      ]
     },
     "execution_count": 39,
     "metadata": {},
     "output_type": "execute_result"
    },
    {
     "data": {
      "image/png": "[encoded data removed]",
      "text/plain": [
       "<Figure size 936x360 with 1 Axes>"
      ]
     },
     "metadata": {},
     "output_type": "display_data"
    }
   ],
   "source": [
    "#посмотрим, влияет ли сезонность на средний чек:\n",
    "\n",
    "mean_revenue_monthly = orders.pivot_table(index ='order_month', values = 'Revenue', aggfunc='median').reset_index()\n",
    "mean_revenue_monthly['order_month'] = mean_revenue_monthly['order_month'].dt.strftime('%Y-%m')\n",
    "\n",
    "fig, ax = pyplot.subplots(figsize=(13, 5))\n",
    "sns.barplot(x='order_month', y='Revenue', data=mean_revenue_monthly)\n",
    "\n",
    "ax.set_title('Средний чек по месяцам')\n",
    "ax.set(xlabel='месяц', ylabel='средний чек')"
   ]
  },
  {
   "cell_type": "markdown",
   "metadata": {},
   "source": [
    "Разница в среднем чеке по месяцам небольшая, однако, тут видно, что средний чек выше в летние месяцы. Скорее всего, это связано с тем, что летом чаще проводятся концерты и фестивали, билеты на которые стоят недешево. Поэтому, хоть пользователи менее активны в этот период, они готовы потратить деньги на Пикник Афиши и/или Park Live :)\n"
   ]
  },
  {
   "cell_type": "markdown",
   "metadata": {},
   "source": [
    "2.2.4 Сколько денег приносят? (LTV)\n",
    "\n",
    "Посчитаем LTV в разрезе рекламных источников"
   ]
  },
  {
   "cell_type": "code",
   "execution_count": 40,
   "metadata": {},
   "outputs": [
    {
     "data": {
      "text/html": [
       "<div>\n",
       "<style scoped>\n",
       "    .dataframe tbody tr th:only-of-type {\n",
       "        vertical-align: middle;\n",
       "    }\n",
       "\n",
       "    .dataframe tbody tr th {\n",
       "        vertical-align: top;\n",
       "    }\n",
       "\n",
       "    .dataframe thead th {\n",
       "        text-align: right;\n",
       "    }\n",
       "</style>\n",
       "<table border=\"1\" class=\"dataframe\">\n",
       "  <thead>\n",
       "    <tr style=\"text-align: right;\">\n",
       "      <th></th>\n",
       "      <th>Uid</th>\n",
       "      <th>source_id</th>\n",
       "      <th>first_order_month</th>\n",
       "    </tr>\n",
       "  </thead>\n",
       "  <tbody>\n",
       "    <tr>\n",
       "      <td>0</td>\n",
       "      <td>1575281904278712</td>\n",
       "      <td>10</td>\n",
       "      <td>2017-06-01</td>\n",
       "    </tr>\n",
       "    <tr>\n",
       "      <td>1</td>\n",
       "      <td>2551852515556206</td>\n",
       "      <td>5</td>\n",
       "      <td>2017-11-01</td>\n",
       "    </tr>\n",
       "    <tr>\n",
       "      <td>2</td>\n",
       "      <td>3077748354309989</td>\n",
       "      <td>3</td>\n",
       "      <td>2018-03-01</td>\n",
       "    </tr>\n",
       "    <tr>\n",
       "      <td>3</td>\n",
       "      <td>3605148382144603</td>\n",
       "      <td>2</td>\n",
       "      <td>2017-09-01</td>\n",
       "    </tr>\n",
       "    <tr>\n",
       "      <td>4</td>\n",
       "      <td>3605148382144603</td>\n",
       "      <td>5</td>\n",
       "      <td>2017-09-01</td>\n",
       "    </tr>\n",
       "  </tbody>\n",
       "</table>\n",
       "</div>"
      ],
      "text/plain": [
       "                Uid  source_id first_order_month\n",
       "0  1575281904278712         10        2017-06-01\n",
       "1  2551852515556206          5        2017-11-01\n",
       "2  3077748354309989          3        2018-03-01\n",
       "3  3605148382144603          2        2017-09-01\n",
       "4  3605148382144603          5        2017-09-01"
      ]
     },
     "execution_count": 40,
     "metadata": {},
     "output_type": "execute_result"
    }
   ],
   "source": [
    "#месяц первой покупки каждого покупателя через каждый источник :\n",
    "\n",
    "first_orders = source_orders.groupby(['Uid', 'source_id']).agg({'order_month': 'min'}).reset_index()\n",
    "first_orders.columns = ['Uid','source_id', 'first_order_month']\n",
    "first_orders.head()"
   ]
  },
  {
   "cell_type": "code",
   "execution_count": 41,
   "metadata": {},
   "outputs": [
    {
     "data": {
      "text/html": [
       "<div>\n",
       "<style scoped>\n",
       "    .dataframe tbody tr th:only-of-type {\n",
       "        vertical-align: middle;\n",
       "    }\n",
       "\n",
       "    .dataframe tbody tr th {\n",
       "        vertical-align: top;\n",
       "    }\n",
       "\n",
       "    .dataframe thead th {\n",
       "        text-align: right;\n",
       "    }\n",
       "</style>\n",
       "<table border=\"1\" class=\"dataframe\">\n",
       "  <thead>\n",
       "    <tr style=\"text-align: right;\">\n",
       "      <th></th>\n",
       "      <th>source_id</th>\n",
       "      <th>first_order_month</th>\n",
       "      <th>n_buyers</th>\n",
       "    </tr>\n",
       "  </thead>\n",
       "  <tbody>\n",
       "    <tr>\n",
       "      <td>0</td>\n",
       "      <td>1</td>\n",
       "      <td>2017-06-01</td>\n",
       "      <td>253</td>\n",
       "    </tr>\n",
       "    <tr>\n",
       "      <td>1</td>\n",
       "      <td>1</td>\n",
       "      <td>2017-07-01</td>\n",
       "      <td>242</td>\n",
       "    </tr>\n",
       "    <tr>\n",
       "      <td>2</td>\n",
       "      <td>1</td>\n",
       "      <td>2017-08-01</td>\n",
       "      <td>153</td>\n",
       "    </tr>\n",
       "    <tr>\n",
       "      <td>3</td>\n",
       "      <td>1</td>\n",
       "      <td>2017-09-01</td>\n",
       "      <td>311</td>\n",
       "    </tr>\n",
       "    <tr>\n",
       "      <td>4</td>\n",
       "      <td>1</td>\n",
       "      <td>2017-10-01</td>\n",
       "      <td>475</td>\n",
       "    </tr>\n",
       "  </tbody>\n",
       "</table>\n",
       "</div>"
      ],
      "text/plain": [
       "   source_id first_order_month  n_buyers\n",
       "0          1        2017-06-01       253\n",
       "1          1        2017-07-01       242\n",
       "2          1        2017-08-01       153\n",
       "3          1        2017-09-01       311\n",
       "4          1        2017-10-01       475"
      ]
     },
     "execution_count": 41,
     "metadata": {},
     "output_type": "execute_result"
    }
   ],
   "source": [
    "# количество новых покупателей за каждый месяц:\n",
    "\n",
    "cohort_sizes = first_orders.groupby(['source_id','first_order_month']).agg({'Uid': 'nunique'}).reset_index()\n",
    "cohort_sizes.columns = ['source_id','first_order_month', 'n_buyers']\n",
    "cohort_sizes.head()"
   ]
  },
  {
   "cell_type": "code",
   "execution_count": 42,
   "metadata": {},
   "outputs": [
    {
     "data": {
      "text/html": [
       "<div>\n",
       "<style scoped>\n",
       "    .dataframe tbody tr th:only-of-type {\n",
       "        vertical-align: middle;\n",
       "    }\n",
       "\n",
       "    .dataframe tbody tr th {\n",
       "        vertical-align: top;\n",
       "    }\n",
       "\n",
       "    .dataframe thead th {\n",
       "        text-align: right;\n",
       "    }\n",
       "</style>\n",
       "<table border=\"1\" class=\"dataframe\">\n",
       "  <thead>\n",
       "    <tr style=\"text-align: right;\">\n",
       "      <th></th>\n",
       "      <th>source_id</th>\n",
       "      <th>first_order_month</th>\n",
       "      <th>order_month</th>\n",
       "      <th>Revenue</th>\n",
       "    </tr>\n",
       "  </thead>\n",
       "  <tbody>\n",
       "    <tr>\n",
       "      <td>0</td>\n",
       "      <td>1</td>\n",
       "      <td>2017-06-01</td>\n",
       "      <td>2017-06-01</td>\n",
       "      <td>1264.19</td>\n",
       "    </tr>\n",
       "    <tr>\n",
       "      <td>1</td>\n",
       "      <td>1</td>\n",
       "      <td>2017-06-01</td>\n",
       "      <td>2017-07-01</td>\n",
       "      <td>29.63</td>\n",
       "    </tr>\n",
       "    <tr>\n",
       "      <td>2</td>\n",
       "      <td>1</td>\n",
       "      <td>2017-06-01</td>\n",
       "      <td>2017-08-01</td>\n",
       "      <td>54.79</td>\n",
       "    </tr>\n",
       "    <tr>\n",
       "      <td>3</td>\n",
       "      <td>1</td>\n",
       "      <td>2017-06-01</td>\n",
       "      <td>2017-09-01</td>\n",
       "      <td>82.28</td>\n",
       "    </tr>\n",
       "    <tr>\n",
       "      <td>4</td>\n",
       "      <td>1</td>\n",
       "      <td>2017-06-01</td>\n",
       "      <td>2017-10-01</td>\n",
       "      <td>75.42</td>\n",
       "    </tr>\n",
       "  </tbody>\n",
       "</table>\n",
       "</div>"
      ],
      "text/plain": [
       "   source_id first_order_month order_month  Revenue\n",
       "0          1        2017-06-01  2017-06-01  1264.19\n",
       "1          1        2017-06-01  2017-07-01    29.63\n",
       "2          1        2017-06-01  2017-08-01    54.79\n",
       "3          1        2017-06-01  2017-09-01    82.28\n",
       "4          1        2017-06-01  2017-10-01    75.42"
      ]
     },
     "execution_count": 42,
     "metadata": {},
     "output_type": "execute_result"
    }
   ],
   "source": [
    "#Построим когорты. Добавим месяц первой покупки каждого покупателя в таблицу с заказами:\n",
    "\n",
    "orders_new = pd.merge(source_orders,first_orders, on=['Uid', 'source_id'])\n",
    "cohorts = orders_new.groupby(['source_id','first_order_month','order_month']).agg({'Revenue': 'sum'}).reset_index()\n",
    "cohorts.head()"
   ]
  },
  {
   "cell_type": "code",
   "execution_count": 43,
   "metadata": {},
   "outputs": [
    {
     "data": {
      "text/html": [
       "<div>\n",
       "<style scoped>\n",
       "    .dataframe tbody tr th:only-of-type {\n",
       "        vertical-align: middle;\n",
       "    }\n",
       "\n",
       "    .dataframe tbody tr th {\n",
       "        vertical-align: top;\n",
       "    }\n",
       "\n",
       "    .dataframe thead th {\n",
       "        text-align: right;\n",
       "    }\n",
       "</style>\n",
       "<table border=\"1\" class=\"dataframe\">\n",
       "  <thead>\n",
       "    <tr style=\"text-align: right;\">\n",
       "      <th></th>\n",
       "      <th>source_id</th>\n",
       "      <th>first_order_month</th>\n",
       "      <th>n_buyers</th>\n",
       "      <th>order_month</th>\n",
       "      <th>Revenue</th>\n",
       "    </tr>\n",
       "  </thead>\n",
       "  <tbody>\n",
       "    <tr>\n",
       "      <td>0</td>\n",
       "      <td>1</td>\n",
       "      <td>2017-06-01</td>\n",
       "      <td>253</td>\n",
       "      <td>2017-06-01</td>\n",
       "      <td>1264.19</td>\n",
       "    </tr>\n",
       "    <tr>\n",
       "      <td>1</td>\n",
       "      <td>1</td>\n",
       "      <td>2017-06-01</td>\n",
       "      <td>253</td>\n",
       "      <td>2017-07-01</td>\n",
       "      <td>29.63</td>\n",
       "    </tr>\n",
       "    <tr>\n",
       "      <td>2</td>\n",
       "      <td>1</td>\n",
       "      <td>2017-06-01</td>\n",
       "      <td>253</td>\n",
       "      <td>2017-08-01</td>\n",
       "      <td>54.79</td>\n",
       "    </tr>\n",
       "    <tr>\n",
       "      <td>3</td>\n",
       "      <td>1</td>\n",
       "      <td>2017-06-01</td>\n",
       "      <td>253</td>\n",
       "      <td>2017-09-01</td>\n",
       "      <td>82.28</td>\n",
       "    </tr>\n",
       "    <tr>\n",
       "      <td>4</td>\n",
       "      <td>1</td>\n",
       "      <td>2017-06-01</td>\n",
       "      <td>253</td>\n",
       "      <td>2017-10-01</td>\n",
       "      <td>75.42</td>\n",
       "    </tr>\n",
       "  </tbody>\n",
       "</table>\n",
       "</div>"
      ],
      "text/plain": [
       "   source_id first_order_month  n_buyers order_month  Revenue\n",
       "0          1        2017-06-01       253  2017-06-01  1264.19\n",
       "1          1        2017-06-01       253  2017-07-01    29.63\n",
       "2          1        2017-06-01       253  2017-08-01    54.79\n",
       "3          1        2017-06-01       253  2017-09-01    82.28\n",
       "4          1        2017-06-01       253  2017-10-01    75.42"
      ]
     },
     "execution_count": 43,
     "metadata": {},
     "output_type": "execute_result"
    }
   ],
   "source": [
    "# Добавим в таблицу cohorts данные о том, сколько людей первый раз совершили покупку в каждый месяц\n",
    "\n",
    "report = pd.merge(cohort_sizes, cohorts, on=['source_id','first_order_month'])\n",
    "report.head()"
   ]
  },
  {
   "cell_type": "code",
   "execution_count": 44,
   "metadata": {
    "scrolled": false
   },
   "outputs": [
    {
     "name": "stdout",
     "output_type": "stream",
     "text": [
      "LTV рекламного источника 1\n",
      "age\n",
      "0      5.333333\n",
      "1      5.818182\n",
      "2      5.800000\n",
      "3      5.888889\n",
      "4      6.000000\n",
      "5      6.285714\n",
      "6      7.000000\n",
      "7      7.400000\n",
      "8      7.500000\n",
      "9      8.333333\n",
      "10     9.000000\n",
      "11    10.000000\n",
      "dtype: float64\n",
      "\n",
      "LTV рекламного источника 2\n",
      "age\n",
      "0     5.583333\n",
      "1     6.909091\n",
      "2     7.500000\n",
      "3     8.333333\n",
      "4     9.000000\n",
      "5     9.857143\n",
      "6     9.000000\n",
      "7     7.600000\n",
      "8     8.000000\n",
      "9     7.333333\n",
      "10    7.500000\n",
      "11    6.000000\n",
      "dtype: float64\n",
      "\n",
      "LTV рекламного источника 3\n",
      "age\n",
      "0     4.083333\n",
      "1     4.222222\n",
      "2     4.375000\n",
      "3     4.428571\n",
      "4     4.142857\n",
      "5     4.333333\n",
      "6     4.400000\n",
      "7     4.666667\n",
      "8     4.500000\n",
      "9     5.000000\n",
      "10    4.000000\n",
      "11    3.000000\n",
      "dtype: float64\n",
      "\n",
      "LTV рекламного источника 4\n",
      "age\n",
      "0     4.076923\n",
      "1     4.181818\n",
      "2     4.285714\n",
      "3     4.250000\n",
      "4     4.285714\n",
      "5     4.285714\n",
      "6     4.333333\n",
      "7     4.666667\n",
      "8     4.500000\n",
      "10    4.000000\n",
      "11    4.000000\n",
      "dtype: float64\n",
      "\n",
      "LTV рекламного источника 5\n",
      "age\n",
      "0     4.833333\n",
      "1     4.909091\n",
      "2     4.900000\n",
      "3     4.888889\n",
      "4     5.000000\n",
      "5     5.142857\n",
      "6     5.166667\n",
      "7     5.500000\n",
      "8     5.500000\n",
      "9     5.500000\n",
      "10    5.500000\n",
      "11    6.000000\n",
      "dtype: float64\n",
      "\n",
      "LTV рекламного источника 7\n",
      "age\n",
      "0    1.0\n",
      "dtype: float64\n",
      "\n",
      "LTV рекламного источника 9\n",
      "age\n",
      "0     3.333333\n",
      "1     3.500000\n",
      "2     3.400000\n",
      "3     3.000000\n",
      "4     3.500000\n",
      "5     3.250000\n",
      "6     4.000000\n",
      "8     3.000000\n",
      "9     3.000000\n",
      "10    3.000000\n",
      "dtype: float64\n",
      "\n",
      "LTV рекламного источника 10\n",
      "age\n",
      "0    3.000000\n",
      "1    3.333333\n",
      "2    4.000000\n",
      "3    2.000000\n",
      "4    2.000000\n",
      "5    4.000000\n",
      "6    4.000000\n",
      "dtype: float64\n",
      "\n"
     ]
    }
   ],
   "source": [
    "#посчитаем среднее LTV для каждого источника\n",
    "\n",
    "margin_rate = 1\n",
    "    \n",
    "report['gp'] = report['Revenue'] * margin_rate\n",
    "report['age'] = (report['order_month'] - report['first_order_month']) / np.timedelta64(1, 'M')\n",
    "report['age'] = report['age'].round().astype('int')\n",
    "\n",
    "report['ltv'] = report['gp'] / report['n_buyers']\n",
    "\n",
    "for source_id in report['source_id'].unique().tolist():\n",
    "    ltv_output = report[report['source_id'] == source_id].pivot_table(\n",
    "        index='first_order_month', \n",
    "        columns='age', \n",
    "        values='ltv', \n",
    "        aggfunc='mean').round()\n",
    "    print('LTV рекламного источника',source_id)\n",
    "    print(ltv_output.cumsum(axis=1).mean(axis=0)) \n",
    "    print()"
   ]
  },
  {
   "cell_type": "markdown",
   "metadata": {},
   "source": [
    "Пользователи рекламных источников 1 и 5 с каждым месяцем приносят все больше прибыли.\n",
    "\n",
    "Пользователи рекламных источников 2 до 7 месяца увеличивает траты, а после начинает тратить меньше\n",
    "\n",
    "Пользователи 3,4,9,10 рекламных источников в среднем каждый месяц приносят одинаковое количество денег. \n",
    "\n",
    "Пользователи рекламного источника 7 совершают разовые покупки в 0 месяц и дальше не покупают. \n",
    "\n",
    "Больше всего покупают пользователи первого и второго источников"
   ]
  },
  {
   "cell_type": "markdown",
   "metadata": {},
   "source": [
    "Посчитаем LTV всей кампании в целом:"
   ]
  },
  {
   "cell_type": "code",
   "execution_count": 45,
   "metadata": {},
   "outputs": [
    {
     "data": {
      "text/plain": [
       "age\n",
       "0     4.486923\n",
       "1     4.850909\n",
       "2     5.062000\n",
       "3     5.536667\n",
       "4     5.853750\n",
       "5     6.204286\n",
       "6     6.381667\n",
       "7     6.732000\n",
       "8     7.190000\n",
       "9     6.643333\n",
       "10    7.110000\n",
       "11    7.540000\n",
       "dtype: float64"
      ]
     },
     "execution_count": 45,
     "metadata": {},
     "output_type": "execute_result"
    }
   ],
   "source": [
    "total_first_orders = source_orders.groupby(['Uid']).agg({'order_month': 'min'}).reset_index()\n",
    "total_first_orders.columns = ['Uid', 'first_order_month']\n",
    "\n",
    "total_cohort_sizes = total_first_orders.groupby(['first_order_month']).agg(\n",
    "                                                        {'Uid': 'nunique'}).reset_index()\n",
    "total_cohort_sizes.columns = ['first_order_month', 'n_buyers']\n",
    "\n",
    "total_orders_new = pd.merge(source_orders,total_first_orders, on=['Uid'])\n",
    "total_cohorts = total_orders_new.groupby(['first_order_month','order_month']).agg(\n",
    "                                                        {'Revenue': 'sum'}).reset_index()\n",
    "\n",
    "total_report = pd.merge(total_cohort_sizes, total_cohorts, on=['first_order_month'])\n",
    "\n",
    "margin_rate = 1\n",
    "    \n",
    "total_report['gp'] = total_report['Revenue'] * margin_rate\n",
    "total_report['age'] = (total_report['order_month'] - total_report['first_order_month']) / np.timedelta64(1, 'M')\n",
    "total_report['age'] = total_report['age'].round().astype('int')\n",
    "\n",
    "total_report['ltv'] = total_report['gp'] / total_report['n_buyers']\n",
    "\n",
    "total_ltv_output = total_report.pivot_table(\n",
    "        index='first_order_month', \n",
    "        columns='age', \n",
    "        values='ltv', \n",
    "        aggfunc='mean').round(2)\n",
    "   \n",
    "total_ltv_output.cumsum(axis=1).mean(axis=0)"
   ]
  },
  {
   "cell_type": "markdown",
   "metadata": {},
   "source": [
    "В среднем, прибыль от среднего пользователя растет до 8 месяца (до марта) включительно, а после снижается. "
   ]
  },
  {
   "cell_type": "markdown",
   "metadata": {},
   "source": [
    "Построим тепловую карту по LTV:"
   ]
  },
  {
   "cell_type": "code",
   "execution_count": 46,
   "metadata": {},
   "outputs": [
    {
     "data": {
      "image/png": "[encoded data removed]",
      "text/plain": [
       "<Figure size 936x648 with 2 Axes>"
      ]
     },
     "metadata": {},
     "output_type": "display_data"
    }
   ],
   "source": [
    "#построим тепловую карту\n",
    "sns.set(style='white')\n",
    "plt.figure(figsize=(13, 9))\n",
    "plt.title('Cohorts: LTV')\n",
    "sns.heatmap(total_ltv_output.cumsum(axis=1), annot=True, fmt='.2f', linewidths=1, linecolor='gray'); "
   ]
  },
  {
   "cell_type": "markdown",
   "metadata": {},
   "source": [
    "По графику видно, что пользователи покупают в первый месяц, а потом почти не делают повторных покупок - выручка на графике почти не растет. Повтороно покупают только пользователи 1,4 и 7 когорт."
   ]
  },
  {
   "cell_type": "code",
   "execution_count": 47,
   "metadata": {},
   "outputs": [
    {
     "data": {
      "text/html": [
       "<div>\n",
       "<style scoped>\n",
       "    .dataframe tbody tr th:only-of-type {\n",
       "        vertical-align: middle;\n",
       "    }\n",
       "\n",
       "    .dataframe tbody tr th {\n",
       "        vertical-align: top;\n",
       "    }\n",
       "\n",
       "    .dataframe thead th {\n",
       "        text-align: right;\n",
       "    }\n",
       "</style>\n",
       "<table border=\"1\" class=\"dataframe\">\n",
       "  <thead>\n",
       "    <tr style=\"text-align: right;\">\n",
       "      <th></th>\n",
       "      <th>first_order_month</th>\n",
       "      <th>n_buyers</th>\n",
       "      <th>order_month</th>\n",
       "      <th>Revenue</th>\n",
       "      <th>gp</th>\n",
       "      <th>age</th>\n",
       "      <th>ltv</th>\n",
       "    </tr>\n",
       "  </thead>\n",
       "  <tbody>\n",
       "    <tr>\n",
       "      <td>0</td>\n",
       "      <td>2017-06-01</td>\n",
       "      <td>1813</td>\n",
       "      <td>2017-06-01</td>\n",
       "      <td>7813.96</td>\n",
       "      <td>7813.96</td>\n",
       "      <td>0</td>\n",
       "      <td>4.309961</td>\n",
       "    </tr>\n",
       "    <tr>\n",
       "      <td>1</td>\n",
       "      <td>2017-06-01</td>\n",
       "      <td>1813</td>\n",
       "      <td>2017-07-01</td>\n",
       "      <td>323.66</td>\n",
       "      <td>323.66</td>\n",
       "      <td>1</td>\n",
       "      <td>0.178522</td>\n",
       "    </tr>\n",
       "    <tr>\n",
       "      <td>2</td>\n",
       "      <td>2017-06-01</td>\n",
       "      <td>1813</td>\n",
       "      <td>2017-08-01</td>\n",
       "      <td>346.71</td>\n",
       "      <td>346.71</td>\n",
       "      <td>2</td>\n",
       "      <td>0.191236</td>\n",
       "    </tr>\n",
       "    <tr>\n",
       "      <td>3</td>\n",
       "      <td>2017-06-01</td>\n",
       "      <td>1813</td>\n",
       "      <td>2017-09-01</td>\n",
       "      <td>667.19</td>\n",
       "      <td>667.19</td>\n",
       "      <td>3</td>\n",
       "      <td>0.368003</td>\n",
       "    </tr>\n",
       "    <tr>\n",
       "      <td>4</td>\n",
       "      <td>2017-06-01</td>\n",
       "      <td>1813</td>\n",
       "      <td>2017-10-01</td>\n",
       "      <td>599.40</td>\n",
       "      <td>599.40</td>\n",
       "      <td>4</td>\n",
       "      <td>0.330612</td>\n",
       "    </tr>\n",
       "    <tr>\n",
       "      <td>...</td>\n",
       "      <td>...</td>\n",
       "      <td>...</td>\n",
       "      <td>...</td>\n",
       "      <td>...</td>\n",
       "      <td>...</td>\n",
       "      <td>...</td>\n",
       "      <td>...</td>\n",
       "    </tr>\n",
       "    <tr>\n",
       "      <td>74</td>\n",
       "      <td>2018-03-01</td>\n",
       "      <td>2816</td>\n",
       "      <td>2018-05-01</td>\n",
       "      <td>383.05</td>\n",
       "      <td>383.05</td>\n",
       "      <td>2</td>\n",
       "      <td>0.136026</td>\n",
       "    </tr>\n",
       "    <tr>\n",
       "      <td>75</td>\n",
       "      <td>2018-04-01</td>\n",
       "      <td>1780</td>\n",
       "      <td>2018-04-01</td>\n",
       "      <td>7672.73</td>\n",
       "      <td>7672.73</td>\n",
       "      <td>0</td>\n",
       "      <td>4.310522</td>\n",
       "    </tr>\n",
       "    <tr>\n",
       "      <td>76</td>\n",
       "      <td>2018-04-01</td>\n",
       "      <td>1780</td>\n",
       "      <td>2018-05-01</td>\n",
       "      <td>746.33</td>\n",
       "      <td>746.33</td>\n",
       "      <td>1</td>\n",
       "      <td>0.419287</td>\n",
       "    </tr>\n",
       "    <tr>\n",
       "      <td>77</td>\n",
       "      <td>2018-05-01</td>\n",
       "      <td>2366</td>\n",
       "      <td>2018-05-01</td>\n",
       "      <td>10354.18</td>\n",
       "      <td>10354.18</td>\n",
       "      <td>0</td>\n",
       "      <td>4.376238</td>\n",
       "    </tr>\n",
       "    <tr>\n",
       "      <td>78</td>\n",
       "      <td>2018-06-01</td>\n",
       "      <td>1</td>\n",
       "      <td>2018-06-01</td>\n",
       "      <td>3.42</td>\n",
       "      <td>3.42</td>\n",
       "      <td>0</td>\n",
       "      <td>3.420000</td>\n",
       "    </tr>\n",
       "  </tbody>\n",
       "</table>\n",
       "<p>79 rows × 7 columns</p>\n",
       "</div>"
      ],
      "text/plain": [
       "   first_order_month  n_buyers order_month   Revenue        gp  age       ltv\n",
       "0         2017-06-01      1813  2017-06-01   7813.96   7813.96    0  4.309961\n",
       "1         2017-06-01      1813  2017-07-01    323.66    323.66    1  0.178522\n",
       "2         2017-06-01      1813  2017-08-01    346.71    346.71    2  0.191236\n",
       "3         2017-06-01      1813  2017-09-01    667.19    667.19    3  0.368003\n",
       "4         2017-06-01      1813  2017-10-01    599.40    599.40    4  0.330612\n",
       "..               ...       ...         ...       ...       ...  ...       ...\n",
       "74        2018-03-01      2816  2018-05-01    383.05    383.05    2  0.136026\n",
       "75        2018-04-01      1780  2018-04-01   7672.73   7672.73    0  4.310522\n",
       "76        2018-04-01      1780  2018-05-01    746.33    746.33    1  0.419287\n",
       "77        2018-05-01      2366  2018-05-01  10354.18  10354.18    0  4.376238\n",
       "78        2018-06-01         1  2018-06-01      3.42      3.42    0  3.420000\n",
       "\n",
       "[79 rows x 7 columns]"
      ]
     },
     "execution_count": 47,
     "metadata": {},
     "output_type": "execute_result"
    }
   ],
   "source": [
    "total_report"
   ]
  },
  {
   "cell_type": "code",
   "execution_count": 48,
   "metadata": {},
   "outputs": [
    {
     "data": {
      "text/plain": [
       "6.204285714285713"
      ]
     },
     "execution_count": 48,
     "metadata": {},
     "output_type": "execute_result"
    }
   ],
   "source": [
    "total_ltv_output.cumsum(axis=1)[5].mean()"
   ]
  },
  {
   "cell_type": "markdown",
   "metadata": {},
   "source": [
    "#### 2.3 Маркетинг\n",
    "\n",
    "2.3.1 Сколько денег потратили? Всего / на каждый источник / по времени"
   ]
  },
  {
   "cell_type": "code",
   "execution_count": 49,
   "metadata": {
    "collapsed": true
   },
   "outputs": [],
   "source": [
    "#выделим месяц расходов\n",
    "costs['month'] = costs['dt'].astype('datetime64[M]') "
   ]
  },
  {
   "cell_type": "code",
   "execution_count": 50,
   "metadata": {},
   "outputs": [
    {
     "name": "stdout",
     "output_type": "stream",
     "text": [
      "Всего потратили на маркетинг: 329131.62\n"
     ]
    }
   ],
   "source": [
    "#найдем, сколько всего денег потратили: \n",
    "\n",
    "print('Всего потратили на маркетинг:', round(sum(costs['costs']), 2))"
   ]
  },
  {
   "cell_type": "code",
   "execution_count": 51,
   "metadata": {},
   "outputs": [
    {
     "data": {
      "text/plain": [
       "[Text(0, 0.5, 'затраты'), Text(0.5, 0, 'рекламный источник')]"
      ]
     },
     "execution_count": 51,
     "metadata": {},
     "output_type": "execute_result"
    },
    {
     "data": {
      "image/png": "[encoded data removed]",
      "text/plain": [
       "<Figure size 720x432 with 1 Axes>"
      ]
     },
     "metadata": {},
     "output_type": "display_data"
    }
   ],
   "source": [
    "#на каждый источник: \n",
    "\n",
    "source_costs = costs.groupby('source_id').sum()\n",
    "\n",
    "fig, ax = pyplot.subplots(figsize=(10, 6))\n",
    "sns.barplot(x=source_costs.index, y='costs', data=source_costs)\n",
    "\n",
    "ax.set_title('Затраты на рекламные источники')\n",
    "ax.set(xlabel='рекламный источник', ylabel='затраты')"
   ]
  },
  {
   "cell_type": "markdown",
   "metadata": {},
   "source": [
    "Больше всего было потрачено на 3 источник - примерно 140 тыс. На втором месте по затратам 4 источник - 60 тыс. \n",
    "Меньше всего потратили на 9 и 10 источники - примерно по 5 тыс. \n",
    "\n",
    "Однако, как мы помним, в таблице visits были еще 6, 7 и 8 источники. Получается, на продвижение через эти источники денег не тратили. Возможно, это прямые заходы и переходы из поисковых систем."
   ]
  },
  {
   "cell_type": "code",
   "execution_count": 52,
   "metadata": {},
   "outputs": [
    {
     "data": {
      "text/plain": [
       "[Text(0, 0.5, 'Затраты'), Text(0.5, 0, 'Месяц')]"
      ]
     },
     "execution_count": 52,
     "metadata": {},
     "output_type": "execute_result"
    },
    {
     "data": {
      "image/png": "[encoded data removed]",
      "text/plain": [
       "<Figure size 1080x432 with 1 Axes>"
      ]
     },
     "metadata": {},
     "output_type": "display_data"
    }
   ],
   "source": [
    "#по времени\n",
    "monthly_costs = costs.groupby('month').agg({'costs':'sum'}).reset_index()\n",
    "monthly_costs['month'] = monthly_costs['month'].dt.strftime('%Y-%m')\n",
    "\n",
    "fig, ax = pyplot.subplots(figsize=(15, 6))\n",
    "sns.lineplot(x='month', y='costs', data=monthly_costs)\n",
    "\n",
    "ax.set_title('Распределение затрат по месяцам')\n",
    "ax.set(xlabel='Месяц', ylabel='Затраты')"
   ]
  },
  {
   "cell_type": "markdown",
   "metadata": {},
   "source": [
    "На графике четко видно, что затраты на маркетинг увеличиваются к октябрю и начинают снижаться в январе. \n",
    "Напомним, что когда мы исследовали посещаемость ресурса и количество покупок, мы обнаружили, что в зимние месяцы пользователи более активны: чаще заходят на сайт и чаще покупают. Однако средний чек выше летом. \n",
    "Из этого можно предположить, что если бы летом затраты на маркетинг сохранялись на уровне зимы, можно было бы значительно увеличить средний чек, активность и количество покупок."
   ]
  },
  {
   "cell_type": "markdown",
   "metadata": {},
   "source": [
    "2.3.2 Сколько стоило привлечение одного покупателя из каждого источника?"
   ]
  },
  {
   "cell_type": "code",
   "execution_count": 53,
   "metadata": {},
   "outputs": [
    {
     "data": {
      "text/plain": [
       "[Text(0, 0.5, 'CAC'), Text(0.5, 0, 'рекламный источник')]"
      ]
     },
     "execution_count": 53,
     "metadata": {},
     "output_type": "execute_result"
    },
    {
     "data": {
      "image/png": "[encoded data removed]",
      "text/plain": [
       "<Figure size 720x432 with 1 Axes>"
      ]
     },
     "metadata": {},
     "output_type": "display_data"
    }
   ],
   "source": [
    "#Посчитаем CAC для всех источников:\n",
    "\n",
    "monthly_source_costs = costs.groupby(['month', 'source_id']).agg({'costs':'sum'}).reset_index()\n",
    "report_new = pd.merge(report, monthly_source_costs, left_on=['source_id','first_order_month'], right_on=['source_id','month'])\n",
    "report_new['cac'] = report_new['costs'] / report_new['n_buyers']\n",
    "\n",
    "cac_output = report_new.pivot_table(\n",
    "        index='source_id',  \n",
    "        values='cac', \n",
    "        aggfunc='mean')\n",
    "\n",
    "fig, ax = pyplot.subplots(figsize=(10, 6))\n",
    "sns.barplot(x=cac_output.index, y='cac', data=cac_output)\n",
    "\n",
    "ax.set_title('Затраты на привлечение одного пользователя')\n",
    "ax.set(xlabel='рекламный источник', ylabel='CAC')"
   ]
  },
  {
   "cell_type": "markdown",
   "metadata": {},
   "source": [
    "Самые дорогие пользователи у 3 источника, это объясняет, почему на него был выделен самый большой бюджет. В общем, бюджеты на каждый источник пропорциональны затратам на привлечение одного пользователя. "
   ]
  },
  {
   "cell_type": "markdown",
   "metadata": {},
   "source": [
    "Посчитаем CAC каждого месяца:"
   ]
  },
  {
   "cell_type": "code",
   "execution_count": 54,
   "metadata": {},
   "outputs": [
    {
     "name": "stdout",
     "output_type": "stream",
     "text": [
      "                         cac\n",
      "first_order_month           \n",
      "2017-06             9.936569\n",
      "2017-07            11.204294\n",
      "2017-08            12.917502\n",
      "2017-09            11.467722\n",
      "2017-10            10.022870\n",
      "2017-11            11.628184\n",
      "2017-12            10.768789\n",
      "2018-01            12.250921\n",
      "2018-02            11.122716\n",
      "2018-03            10.800877\n",
      "2018-04            12.522124\n",
      "2018-05             9.393183\n"
     ]
    },
    {
     "data": {
      "image/png": "[encoded data removed]",
      "text/plain": [
       "<Figure size 936x432 with 1 Axes>"
      ]
     },
     "metadata": {},
     "output_type": "display_data"
    }
   ],
   "source": [
    "total_monthly_source_costs = costs.groupby(['month']).agg({'costs':'sum'}).reset_index()\n",
    "total_report_new = pd.merge(total_report, total_monthly_source_costs, left_on=['first_order_month'], right_on=['month'])\n",
    "total_report_new['cac'] = total_report_new['costs'] / total_report_new['n_buyers']\n",
    "total_report_new['first_order_month'] = total_report_new['first_order_month'].dt.strftime('%Y-%m')\n",
    "total_cac_output = total_report_new.pivot_table(\n",
    "        index='first_order_month',  \n",
    "        values='cac', \n",
    "        aggfunc='mean')\n",
    "\n",
    "fig, ax = pyplot.subplots(figsize=(13, 6))\n",
    "sns.barplot(x=total_cac_output.index, y='cac', data=total_cac_output)\n",
    "\n",
    "ax.set_title('Затраты на привлечение одного пользователя')\n",
    "ax.set(xlabel='Месяц', ylabel='CAC')\n",
    "\n",
    "print(total_cac_output)"
   ]
  },
  {
   "cell_type": "markdown",
   "metadata": {},
   "source": [
    "Посчитаем средний CAC:"
   ]
  },
  {
   "cell_type": "code",
   "execution_count": 55,
   "metadata": {},
   "outputs": [
    {
     "name": "stdout",
     "output_type": "stream",
     "text": [
      "Средний CAC: 11.17\n"
     ]
    }
   ],
   "source": [
    "print('Средний CAC:', round(total_cac_output.mean()[0], 2))"
   ]
  },
  {
   "cell_type": "markdown",
   "metadata": {},
   "source": [
    "Самые дорогие пользователи получились в авгусе 2017, в январе и в апреле 2018. \n",
    "\n",
    "Самые дешевые в июне, октябре 2017 и мае 2018.\n",
    "\n",
    "Средняя стоимость пользователя - 11.17.\n",
    "\n",
    "Даже не считая ROMI можно сказать, что расходы на маркетинг почти не окупаются."
   ]
  },
  {
   "cell_type": "markdown",
   "metadata": {},
   "source": [
    "2.3.3 На сколько окупились расходы? (ROI)"
   ]
  },
  {
   "cell_type": "code",
   "execution_count": 56,
   "metadata": {},
   "outputs": [
    {
     "name": "stdout",
     "output_type": "stream",
     "text": [
      "ROMI рекламного источника 1\n",
      "age\n",
      "0     1.083333\n",
      "1     1.090909\n",
      "2     1.100000\n",
      "3     1.111111\n",
      "4     1.125000\n",
      "5     1.142857\n",
      "6     1.166667\n",
      "7     1.200000\n",
      "8     1.250000\n",
      "9     1.333333\n",
      "10    1.500000\n",
      "11    1.000000\n",
      "dtype: float64\n",
      "\n",
      "ROMI рекламного источника 2\n",
      "age\n",
      "0     0.500000\n",
      "1     0.545455\n",
      "2     0.600000\n",
      "3     0.666667\n",
      "4     0.750000\n",
      "5     0.857143\n",
      "6     0.833333\n",
      "7     0.800000\n",
      "8     0.750000\n",
      "9     0.666667\n",
      "10    1.000000\n",
      "11    1.000000\n",
      "dtype: float64\n",
      "\n",
      "ROMI рекламного источника 3\n",
      "age\n",
      "0     0.0\n",
      "1     0.0\n",
      "2     0.0\n",
      "3     0.0\n",
      "4     0.0\n",
      "5     0.0\n",
      "6     0.0\n",
      "7     0.0\n",
      "8     0.0\n",
      "9     0.0\n",
      "10    0.0\n",
      "11    0.0\n",
      "dtype: float64\n",
      "\n",
      "ROMI рекламного источника 4\n",
      "age\n",
      "0     0.750000\n",
      "1     0.727273\n",
      "2     0.714286\n",
      "3     0.625000\n",
      "4     0.571429\n",
      "5     0.571429\n",
      "6     0.500000\n",
      "7     0.333333\n",
      "8     0.250000\n",
      "10    0.000000\n",
      "11    0.000000\n",
      "dtype: float64\n",
      "\n",
      "ROMI рекламного источника 5\n",
      "age\n",
      "0     0.833333\n",
      "1     0.818182\n",
      "2     0.800000\n",
      "3     0.777778\n",
      "4     0.750000\n",
      "5     0.857143\n",
      "6     0.833333\n",
      "7     1.000000\n",
      "8     1.000000\n",
      "9     1.000000\n",
      "10    1.000000\n",
      "11    1.000000\n",
      "dtype: float64\n",
      "\n",
      "ROMI рекламного источника 9\n",
      "age\n",
      "0     0.25\n",
      "1     0.50\n",
      "2     0.60\n",
      "3     0.00\n",
      "4     0.50\n",
      "5     0.25\n",
      "6     1.00\n",
      "8     0.00\n",
      "9     0.00\n",
      "10    0.00\n",
      "dtype: float64\n",
      "\n",
      "ROMI рекламного источника 10\n",
      "age\n",
      "0    0.583333\n",
      "1    0.333333\n",
      "2    0.000000\n",
      "3    1.000000\n",
      "4    1.000000\n",
      "5    0.000000\n",
      "6    0.000000\n",
      "dtype: float64\n",
      "\n"
     ]
    }
   ],
   "source": [
    "#Посчитаем ROMI для всех когорт каждого источника и посмотрим, \n",
    "#сколько месяцев нужно каждой когорте каждого источника, чтобы окупить маркетинговые затраты\n",
    "report_new['romi'] = report_new['ltv'] / report_new['cac']\n",
    "\n",
    "for source_id in report_new['source_id'].unique().tolist():\n",
    "    romi_output = report_new[report_new['source_id'] == source_id].pivot_table(\n",
    "        index='first_order_month', \n",
    "        columns='age', \n",
    "        values='romi', \n",
    "        aggfunc='mean').round()\n",
    "    print('ROMI рекламного источника',source_id)\n",
    "    print(romi_output.cumsum(axis=1).mean(axis=0)) \n",
    "    print()"
   ]
  },
  {
   "cell_type": "markdown",
   "metadata": {},
   "source": [
    "Затраты на 1 источник окупаются сразу.\n",
    "\n",
    "Затраты на 2 источник окупаются почти через год - на 10 месяце.\n",
    "\n",
    "Затраты на 5 источник окупаются в 7 месяц.\n",
    "\n",
    "Затраты на 3, 4, 9, 10 источники не окупаются вовсе."
   ]
  },
  {
   "cell_type": "markdown",
   "metadata": {},
   "source": [
    "###  Шаг 3. Выводы и рекомендации"
   ]
  },
  {
   "cell_type": "markdown",
   "metadata": {},
   "source": [
    "**Подведем итоги:**\n",
    "\n",
    "1) Сколько людей пользуются в день, неделю, месяц?\n",
    "    - В среднем Я.Афишей пользуются 907 человек в день, 5716 в неделю, 23228 в месяц.\n",
    "    - Большинство пользователей заходят на ресурс с десктопов. \n",
    "    - Независимо от исследуемого периода, большая часть пользователей пришла из рекламных источников 4, 3, 5. \n",
    "    - Меньше всего пользователей привели источники 6 и 7\n",
    "\n",
    "2) Сколько сессий в день?\n",
    "\n",
    "    - Если рассматривать общую картину, то среднее количество сессий в день - 1003. Большая их часть совершается на десктопе. Однако, если смотреть на динамику среднего количества сессий в день по месяцам, то видно, что с осени активность пользователей растет - они чаще заходят на Я.Афишу. Пользовательская активность достигает пика в декабре и к весне она снова постепенно снижается.\n",
    "\n",
    "3) Сколько длится одна сессия?\n",
    "\n",
    "    - Медианная длительность сессии - 300 секунд, это 5 минут. \n",
    "    - Но чаще всего сессия длится 1 минуту. \n",
    "    - Из этого можно сделать вывод, что люди не проводят на сайте много времени - скорее всего заходят целенаправленно. Смущает, что 1 минута - самая распространненная длительность сессии. Сложно за минуту выбрать куда пойти и, тем более,купить билет. Могут это быть боты? Или сервис неудобный? \n",
    "    \n",
    "4) Как часто люди возвращаются?\n",
    "\n",
    "    - Процент вернувшихся пользователей в каждой когорте очень низкий: более 90% пользователей не возвращаются. Вероятно, пользователи приходили ради конкретного мероприятия, а потом возвращались только те, кто в принципе часто ходит по выставкам/концертам и тд. Или, возможно, дело в том, что в 2017-2018 годах сервис был не очень удобен для планирования досуга.\n",
    "    \n",
    "5) Когда люди начинают покупать?\n",
    "    - В среднем люди начинают покупать через 16 минут после первой сессии. Это говорит о том, что пользователи целенаправленно заходят на сайт. \n",
    "6) Сколько раз покупают за период?\n",
    "    - В среднем в месяц пользователи делают по одной покупке. Вероятно, большинство людей в приципе ходят на концерты/в музеи и тд довольно редко. Самые активные как раз будут составлять тот небольшой процент вернувшихся из пункта 4.\n",
    "    - В количестве покупок и тут наблюдается сезонность: больше всего покупают осенью и зимой - в месяц выходит по 5-6 тыс заказов \n",
    "    - Чаще всех покупали пользователи трех источников: 4, 5, 3. Реже всех - пользователи 7, 9, 10 источников\n",
    "\n",
    "7) Какой средний чек?\n",
    "    - Средний чек - 5.0\n",
    "    - Среднее количество заказов на одного пользователя: 1.0\n",
    "    - Разница в среднем чеке по месяцам небольшая, однако, тут видно, что средний чек выше в летние месяцы. Скорее всего, это связано с тем, что летом чаще проводятся концерты и фестивали, билеты на которые стоят недешево. Поэтому, хоть пользователи менее активны в этот период, они готовы потратить деньги на Пикник Афиши и/или Park Live :)\n",
    "\n",
    "8) Сколько денег приносят? (LTV)\n",
    "    - В среднем, прибыль от среднего пользователя растет до 8 месяца (до марта) включительно, а после снижается.\n",
    "    - Пользователи рекламных источников 1 и 5 с каждым месяцем приносят все больше прибыли.\n",
    "    - Пользователи рекламного источника 2 до 7 месяца увеличивает траты, а после начинает тратить меньше\n",
    "    - Пользователи 3,4,9,10 рекламных источников в среднем каждый месяц приносят одинаковое количество денег. \n",
    "    - Пользователи рекламного источника 7 совершают разовые покупки в 0 месяц и дальше не покупают. \n",
    "    - Больше всех покупают пользователи первого и второго источников\n",
    "    \n",
    "9) Сколько денег потратили? Всего / на каждый источник / по времени\n",
    "    - Больше всего было потрачено на 3 источник - примерно 140 тыс. На втором месте по затратам 4 источник - 60 тыс. Меньше всего потратили на 9 и 10 источники - примерно по 5 тыс. Однако, как мы помним, в таблице visits были еще 6, 7 и 8 источники. Получается, на продвижение через эти источники денег не тратили. Возможно, это прямые заходы и переходы из поисковых систем.\n",
    "    - На графике четко видно, что затраты на маркетинг увеличиваются к октябрю и начинают снижаться в январе. Напомним, что когда мы исследовали посещаемость ресурса и количество покупок, мы обнаружили, что в зимние месяцы пользователи более активны: чаще заходят на сайт и чаще покупают. Однако средний чек выше летом. Из этого можно предположить, что если бы летом затраты на маркетинг сохранялись на уровне зимы, можно было бы значительно увеличить средний чек, активность и количество покупок.\n",
    "    \n",
    "10) Сколько стоило привлечение одного покупателя из каждого источника?\n",
    "    - Самые дорогие пользователи у 3 источника, это объясняет, почему на него был выделен самый большой бюджет. В общем, бюджеты на каждый источник пропорциональны затратам на привлечение одного пользователя. \n",
    "    - Самые дорогие пользователи получились в авгусе 2017, в январе и в апреле 2018. \n",
    "    - Самые дешевые в июне, октябре 2017 и мае 2018.\n",
    "\n",
    "11) На сколько окупились расходы? (ROI)\n",
    "    - Затраты на 1 источник окупаются сразу.\n",
    "    - Затраты на 2 источник окупаются почти через год - на 10 месяце.\n",
    "    - Затраты на 5 источник окупаются в 7 месяц.\n",
    "    - Затраты на 3, 4, 9, 10 источники не окупаются вовсе.\n",
    "    \n",
    "    \n",
    "\n",
    "**Рекомендации:**\n",
    "\n",
    "1) Имеет смысл перераспределить часть бюджета с 3 и 4 источников на 1 и 5, так как пользователи с 1 и 5 источников склонны с каждым месяцем приносить все больше денег. Кроме того, затраты на эти источники пере за первые полгода почти окупаются. \n",
    "\n",
    "2) Возможно, стоит отказаться от 9 и 10 источников в пользу более прибыльных: 1, 2, 5. Источники 9 и 10 - почти не приносят прибыли и не окупаются. \n",
    "\n",
    "3) Стоит проводить более активные РК в теплые месяцы, когда проводится больше концертов и фестивалей - в этот период и ради крупных событий пользователи готовы тратить больше денег -> увеличивается средний чек. \n",
    "\n",
    "4) Не стоит забывать про источники 6, 7, 8 - они бесплатные, преположительно это трафик из поиска. Это значит, эти источники можно использовать для увеличения общей выручки и покрытия расходов: возможно надо поработать над тем, чтобы при поиске определенного мероприятия сайт Я.Афиши показывался чаще, чем сейчас.\n",
    "\n",
    "5) Люди мало пользуются мобильной версией сайта - надо выяснить почему, возможность, есть проблема, и решив ее, можно увеличить посещаемость и выручку.\n",
    "\n",
    "6) Посмотреть, что делают люди, которые проводят на сайте 1 минуту - может, с сайтом что-то не так? Или рекламные ссылки ведут не на то мероприятие?\n",
    "\n",
    "7) Так как в основном люди покупают 1 раз и больше не возвращаются, может, имеет смысл использовать ремаркетинг на похожие мероприятия?\n"
   ]
  },
  {
   "cell_type": "code",
   "execution_count": null,
   "metadata": {
    "collapsed": true
   },
   "outputs": [],
   "source": []
  },
  {
   "cell_type": "code",
   "execution_count": null,
   "metadata": {
    "collapsed": true
   },
   "outputs": [],
   "source": []
  },
  {
   "cell_type": "code",
   "execution_count": null,
   "metadata": {
    "collapsed": true
   },
   "outputs": [],
   "source": []
  },
  {
   "cell_type": "code",
   "execution_count": null,
   "metadata": {
    "collapsed": true
   },
   "outputs": [],
   "source": []
  },
  {
   "cell_type": "code",
   "execution_count": null,
   "metadata": {
    "collapsed": true
   },
   "outputs": [],
   "source": []
  }
 ],
 "metadata": {
  "kernelspec": {
   "display_name": "Python 3",
   "language": "python",
   "name": "python3"
  },
  "language_info": {
   "codemirror_mode": {
    "name": "ipython",
    "version": 3
   },
   "file_extension": ".py",
   "mimetype": "text/x-python",
   "name": "python",
   "nbconvert_exporter": "python",
   "pygments_lexer": "ipython3",
   "version": "3.6.3"
  }
 },
 "nbformat": 4,
 "nbformat_minor": 2
}
