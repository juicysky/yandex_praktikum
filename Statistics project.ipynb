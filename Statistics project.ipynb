{
 "cells": [
  {
   "cell_type": "markdown",
   "metadata": {},
   "source": [
    "# Определение перспективного тарифа для телеком компании"
   ]
  },
  {
   "cell_type": "markdown",
   "metadata": {},
   "source": [
    "Вы аналитик компании «Мегалайн» — федерального оператора сотовой связи. Клиентам предлагают два тарифных плана: «Смарт» и «Ультра». Чтобы скорректировать рекламный бюджет, коммерческий департамент хочет понять, какой тариф приносит больше денег.\n",
    "\n",
    "Вам предстоит сделать предварительный анализ тарифов на небольшой выборке клиентов. В вашем распоряжении данные 500 пользователей «Мегалайна»: кто они, откуда, каким тарифом пользуются, сколько звонков и сообщений каждый отправил за 2018 год. Нужно проанализировать поведение клиентов и сделать вывод — какой тариф лучше."
   ]
  },
  {
   "cell_type": "markdown",
   "metadata": {},
   "source": [
    "## Описание тарифов \n",
    "\n",
    "#### Тариф «Смарт»\n",
    "1. Ежемесячная плата: 550 рублей\n",
    "2. Включено 500 минут разговора, 50 сообщений и 15 Гб интернет-трафика\n",
    "3. Стоимость услуг сверх тарифного пакета:\n",
    "    - минута разговора: 3 рубля\n",
    "    - сообщение: 3 рубля\n",
    "    - 1 Гб интернет-трафика: 200 рублей\n",
    "    \n",
    "####  Тариф «Ультра»\n",
    "1. Ежемесячная плата: 1950 рублей\n",
    "2. Включено 3000 минут разговора, 1000 сообщений и 30 Гб интернет-трафика\n",
    "3. Стоимость услуг сверх тарифного пакета:\n",
    "    - минута разговора: 1 рубль\n",
    "    - сообщение: 1 рубль\n",
    "    - 1 Гб интернет-трафика: 150 рублей\n",
    "    \n",
    "    \n",
    "**Важно:** «Мегалайн» всегда округляет вверх значения минут и мегабайтов. Если пользователь проговорил всего 1 секунду, в тарифе засчитывается целая минута.\n"
   ]
  },
  {
   "cell_type": "markdown",
   "metadata": {},
   "source": [
    "## Описание данных: \n",
    "\n",
    "**Таблица users (информация о пользователях):**\n",
    "- user_id — уникальный идентификатор пользователя\n",
    "- first_name — имя пользователя\n",
    "- last_name — фамилия пользователя\n",
    "- age — возраст пользователя (годы)\n",
    "- reg_date — дата подключения тарифа (день, месяц, год)\n",
    "- churn_date — дата прекращения пользования тарифом (если значение пропущено, то тариф ещё действовал на момент выгрузки данных)\n",
    "- city — город проживания пользователя\n",
    "- tariff — название тарифного плана\n",
    "\n",
    "**Таблица calls (информация о звонках):**\n",
    "- id — уникальный номер звонка\n",
    "- call_date — дата звонка\n",
    "- duration — длительность звонка в минутах\n",
    "- user_id — идентификатор пользователя, сделавшего звонок\n",
    "\n",
    "**Таблица messages (информация о сообщениях):**\n",
    "- id — уникальный номер сообщения\n",
    "- message_date — дата сообщения\n",
    "- user_id — идентификатор пользователя, отправившего сообщение\n",
    "\n",
    "**Таблица internet (информация об интернет-сессиях):**\n",
    "- id — уникальный номер сессии\n",
    "- mb_used — объём потраченного за сессию интернет-трафика (в мегабайтах)\n",
    "- session_date — дата интернет-сессии\n",
    "- user_id — идентификатор пользователя\n",
    "\n",
    "**Таблица tariffs (информация о тарифах):**\n",
    "- tariff_name — название тарифа\n",
    "- rub_monthly_fee — ежемесячная абонентская плата в рублях\n",
    "- minutes_included — количество минут разговора в месяц, включённых в абонентскую плату\n",
    "- messages_included — количество сообщений в месяц, включённых в абонентскую плату\n",
    "- mb_per_month_included — объём интернет-трафика, включённого в абонентскую плату (в мегабайтах)\n",
    "- rub_per_minute — стоимость минуты разговора сверх тарифного пакета (например, если в тарифе 100 минут разговора в месяц, то со 101 минуты будет взиматься плата)\n",
    "- rub_per_message — стоимость отправки сообщения сверх тарифного пакета\n",
    "- rub_per_gb — стоимость дополнительного гигабайта интернет-трафика сверх тарифного пакета (1 гигабайт = 1024 мегабайта)"
   ]
  },
  {
   "cell_type": "markdown",
   "metadata": {},
   "source": [
    "## План работы: \n",
    "\n",
    "Шаг 1. Изучение общей информации о файле \n",
    "\n",
    "Шаг 2. Подготовка данных: \n",
    "    1. удаление дубликатов, заполнение пропусков, приведение данных к корректному типу, где это необходимо, удаление прочих ошибок\n",
    "    2. посчитать для каждого пользователя:\n",
    "        - количество сделанных звонков и израсходованных минут разговора по месяцам;\n",
    "        - количество отправленных сообщений по месяцам;\n",
    "        - объем израсходованного интернет-трафика по месяцам;\n",
    "        - помесячную выручку с каждого пользователя (вычтите бесплатный лимит из суммарного количества звонков, сообщений и интернет-трафика; остаток умножьте на значение из тарифного плана; прибавьте абонентскую плату, соответствующую тарифному плану).\n",
    "\n",
    "Шаг 3. Анализ поведения клиентов\n",
    "\n",
    "Шаг 4. Проверка гипотез "
   ]
  },
  {
   "cell_type": "markdown",
   "metadata": {},
   "source": [
    "###  Шаг 1. Откройте файл с данными и изучите общую информацию"
   ]
  },
  {
   "cell_type": "code",
   "execution_count": 1,
   "metadata": {
    "collapsed": true
   },
   "outputs": [],
   "source": [
    "#импортируем нужные библиотеки\n",
    "import pandas as pd\n",
    "import numpy as np\n",
    "import matplotlib.pyplot as plt\n",
    "import seaborn as sns\n",
    "from scipy import stats as st"
   ]
  },
  {
   "cell_type": "markdown",
   "metadata": {},
   "source": [
    "#### 1.1 считываем файлы и выведем по ним информацию "
   ]
  },
  {
   "cell_type": "code",
   "execution_count": 2,
   "metadata": {},
   "outputs": [
    {
     "name": "stdout",
     "output_type": "stream",
     "text": [
      "<class 'pandas.core.frame.DataFrame'>\n",
      "RangeIndex: 202607 entries, 0 to 202606\n",
      "Data columns (total 4 columns):\n",
      "id           202607 non-null object\n",
      "call_date    202607 non-null object\n",
      "duration     202607 non-null float64\n",
      "user_id      202607 non-null int64\n",
      "dtypes: float64(1), int64(1), object(2)\n",
      "memory usage: 6.2+ MB\n"
     ]
    }
   ],
   "source": [
    "#считываем файлы и выведем по ним информацию \n",
    "\n",
    "calls = pd.read_csv('/datasets/calls.csv')\n",
    "calls.info()"
   ]
  },
  {
   "cell_type": "code",
   "execution_count": 3,
   "metadata": {},
   "outputs": [
    {
     "name": "stdout",
     "output_type": "stream",
     "text": [
      "<class 'pandas.core.frame.DataFrame'>\n",
      "Int64Index: 149396 entries, 0 to 149395\n",
      "Data columns (total 4 columns):\n",
      "id              149396 non-null object\n",
      "mb_used         149396 non-null float64\n",
      "session_date    149396 non-null object\n",
      "user_id         149396 non-null int64\n",
      "dtypes: float64(1), int64(1), object(2)\n",
      "memory usage: 5.7+ MB\n"
     ]
    }
   ],
   "source": [
    "internet = pd.read_csv('/datasets/internet.csv', index_col=0)\n",
    "internet.info()"
   ]
  },
  {
   "cell_type": "code",
   "execution_count": 4,
   "metadata": {},
   "outputs": [
    {
     "name": "stdout",
     "output_type": "stream",
     "text": [
      "<class 'pandas.core.frame.DataFrame'>\n",
      "RangeIndex: 123036 entries, 0 to 123035\n",
      "Data columns (total 3 columns):\n",
      "id              123036 non-null object\n",
      "message_date    123036 non-null object\n",
      "user_id         123036 non-null int64\n",
      "dtypes: int64(1), object(2)\n",
      "memory usage: 2.8+ MB\n"
     ]
    }
   ],
   "source": [
    "messages = pd.read_csv('/datasets/messages.csv')\n",
    "messages.info()"
   ]
  },
  {
   "cell_type": "code",
   "execution_count": 5,
   "metadata": {},
   "outputs": [
    {
     "name": "stdout",
     "output_type": "stream",
     "text": [
      "<class 'pandas.core.frame.DataFrame'>\n",
      "RangeIndex: 2 entries, 0 to 1\n",
      "Data columns (total 8 columns):\n",
      "messages_included        2 non-null int64\n",
      "mb_per_month_included    2 non-null int64\n",
      "minutes_included         2 non-null int64\n",
      "rub_monthly_fee          2 non-null int64\n",
      "rub_per_gb               2 non-null int64\n",
      "rub_per_message          2 non-null int64\n",
      "rub_per_minute           2 non-null int64\n",
      "tariff_name              2 non-null object\n",
      "dtypes: int64(7), object(1)\n",
      "memory usage: 256.0+ bytes\n"
     ]
    }
   ],
   "source": [
    "tariffs = pd.read_csv('/datasets/tariffs.csv')\n",
    "tariffs.info()"
   ]
  },
  {
   "cell_type": "code",
   "execution_count": 6,
   "metadata": {},
   "outputs": [
    {
     "name": "stdout",
     "output_type": "stream",
     "text": [
      "<class 'pandas.core.frame.DataFrame'>\n",
      "RangeIndex: 500 entries, 0 to 499\n",
      "Data columns (total 8 columns):\n",
      "user_id       500 non-null int64\n",
      "age           500 non-null int64\n",
      "churn_date    38 non-null object\n",
      "city          500 non-null object\n",
      "first_name    500 non-null object\n",
      "last_name     500 non-null object\n",
      "reg_date      500 non-null object\n",
      "tariff        500 non-null object\n",
      "dtypes: int64(2), object(6)\n",
      "memory usage: 31.4+ KB\n"
     ]
    }
   ],
   "source": [
    "users = pd.read_csv('/datasets/users.csv')\n",
    "users.info()"
   ]
  },
  {
   "cell_type": "markdown",
   "metadata": {},
   "source": [
    "### Вывод\n",
    "Данные содержат информацию по 500 клиентам. \n",
    "\n",
    "Для дальнейшей работы необходимо:\n",
    "1. заменить тип данных у столбцов с датой и временем\n",
    "2. обработать звонки с нулевой длительностью\n",
    "3. округлить значения минут разговора и мегабайт использованного трафика в большую сторону, так как тарифы считаются по минутам и мегабайтам.\n"
   ]
  },
  {
   "cell_type": "markdown",
   "metadata": {},
   "source": [
    "###  Шаг 2. Подготовка данных"
   ]
  },
  {
   "cell_type": "markdown",
   "metadata": {},
   "source": [
    "#### 2.1 Заменим тип данных и исправим ошибки"
   ]
  },
  {
   "cell_type": "markdown",
   "metadata": {},
   "source": [
    "**Замена данных с датой и временем со строчного на временной:**"
   ]
  },
  {
   "cell_type": "code",
   "execution_count": 7,
   "metadata": {
    "collapsed": true
   },
   "outputs": [],
   "source": [
    "calls['call_date'] = pd.to_datetime(calls['call_date'], format='%Y-%m-%d')\n",
    "internet['session_date'] = pd.to_datetime(internet['session_date'], format='%Y-%m-%d')\n",
    "messages['message_date'] = pd.to_datetime(messages['message_date'], format='%Y-%m-%d')\n",
    "users['churn_date'] = pd.to_datetime(users['churn_date'], format='%Y-%m-%d')\n",
    "users['reg_date'] = pd.to_datetime(users['reg_date'], format='%Y-%m-%d')"
   ]
  },
  {
   "cell_type": "markdown",
   "metadata": {},
   "source": [
    "**Обработаем звонки с нулевой длительностью**"
   ]
  },
  {
   "cell_type": "code",
   "execution_count": 8,
   "metadata": {},
   "outputs": [
    {
     "name": "stdout",
     "output_type": "stream",
     "text": [
      "Доля звонков с нулевой длительностью:19.55%\n"
     ]
    }
   ],
   "source": [
    "print('Доля звонков с нулевой длительностью:{:.2%}'.format(\n",
    "    len(calls.loc[calls['duration'] == 0])/len(calls)))"
   ]
  },
  {
   "cell_type": "code",
   "execution_count": 9,
   "metadata": {},
   "outputs": [
    {
     "data": {
      "text/plain": [
       "Text(0.5, 1.0, 'Зависимость количества нулевых значений от общего числа звонков по месяцам')"
      ]
     },
     "execution_count": 9,
     "metadata": {},
     "output_type": "execute_result"
    },
    {
     "data": {
      "image/png": "[encoded data removed]",
      "text/plain": [
       "<Figure size 432x288 with 1 Axes>"
      ]
     },
     "metadata": {
      "needs_background": "light"
     },
     "output_type": "display_data"
    }
   ],
   "source": [
    "# добавим столбец со значением месяца\n",
    "calls['month'] = calls['call_date'].dt.month\n",
    "\n",
    "# построим график зависимости количества нулевых значений от общего числа звонков за каждый месяц\n",
    "calls.loc[calls['duration'] == 0, 'null_calls'] = 1\n",
    "calls.pivot_table(index='month', values=['id', 'null_calls'], aggfunc='count').plot(\n",
    "    x='id', y='null_calls',\n",
    "    grid=True)\n",
    "plt.xlabel('Общее количество звонков по месяцам')\n",
    "plt.ylabel('Количество нулевых звонков ')\n",
    "plt.title('Зависимость количества нулевых значений от общего числа звонков по месяцам')"
   ]
  },
  {
   "cell_type": "markdown",
   "metadata": {},
   "source": [
    "По графику видно, что чем больше общее количество звонков, тем больше звонков с нулевой длительностью. \n",
    "Это могут быть пропущенные звонки, но мы не можем точно это утверждать, так как у нас нет признака, описывающего входящие/исходящие вызовы. Еще это могут быть сброшенные звонки, звонки от мошенников, звонки не тому абоненту, случайный набор номера.\n",
    "Поэтому округлим все значения в большую сторону (тариф считается по минутам), а нулевые значения заменим на 1."
   ]
  },
  {
   "cell_type": "code",
   "execution_count": 10,
   "metadata": {
    "collapsed": true
   },
   "outputs": [],
   "source": [
    "calls['duration'] = calls['duration'].apply(np.ceil)\n",
    "calls.loc[calls['duration'] == 0, 'duration'] = 1"
   ]
  },
  {
   "cell_type": "code",
   "execution_count": 11,
   "metadata": {
    "scrolled": true
   },
   "outputs": [
    {
     "data": {
      "text/html": [
       "<div>\n",
       "<style scoped>\n",
       "    .dataframe tbody tr th:only-of-type {\n",
       "        vertical-align: middle;\n",
       "    }\n",
       "\n",
       "    .dataframe tbody tr th {\n",
       "        vertical-align: top;\n",
       "    }\n",
       "\n",
       "    .dataframe thead th {\n",
       "        text-align: right;\n",
       "    }\n",
       "</style>\n",
       "<table border=\"1\" class=\"dataframe\">\n",
       "  <thead>\n",
       "    <tr style=\"text-align: right;\">\n",
       "      <th></th>\n",
       "      <th>id</th>\n",
       "      <th>call_date</th>\n",
       "      <th>duration</th>\n",
       "      <th>user_id</th>\n",
       "      <th>month</th>\n",
       "      <th>null_calls</th>\n",
       "    </tr>\n",
       "  </thead>\n",
       "  <tbody>\n",
       "    <tr>\n",
       "      <td>0</td>\n",
       "      <td>1000_0</td>\n",
       "      <td>2018-07-25</td>\n",
       "      <td>1.0</td>\n",
       "      <td>1000</td>\n",
       "      <td>7</td>\n",
       "      <td>1.0</td>\n",
       "    </tr>\n",
       "    <tr>\n",
       "      <td>1</td>\n",
       "      <td>1000_1</td>\n",
       "      <td>2018-08-17</td>\n",
       "      <td>1.0</td>\n",
       "      <td>1000</td>\n",
       "      <td>8</td>\n",
       "      <td>1.0</td>\n",
       "    </tr>\n",
       "    <tr>\n",
       "      <td>2</td>\n",
       "      <td>1000_2</td>\n",
       "      <td>2018-06-11</td>\n",
       "      <td>3.0</td>\n",
       "      <td>1000</td>\n",
       "      <td>6</td>\n",
       "      <td>NaN</td>\n",
       "    </tr>\n",
       "    <tr>\n",
       "      <td>3</td>\n",
       "      <td>1000_3</td>\n",
       "      <td>2018-09-21</td>\n",
       "      <td>14.0</td>\n",
       "      <td>1000</td>\n",
       "      <td>9</td>\n",
       "      <td>NaN</td>\n",
       "    </tr>\n",
       "    <tr>\n",
       "      <td>4</td>\n",
       "      <td>1000_4</td>\n",
       "      <td>2018-12-15</td>\n",
       "      <td>6.0</td>\n",
       "      <td>1000</td>\n",
       "      <td>12</td>\n",
       "      <td>NaN</td>\n",
       "    </tr>\n",
       "  </tbody>\n",
       "</table>\n",
       "</div>"
      ],
      "text/plain": [
       "       id  call_date  duration  user_id  month  null_calls\n",
       "0  1000_0 2018-07-25       1.0     1000      7         1.0\n",
       "1  1000_1 2018-08-17       1.0     1000      8         1.0\n",
       "2  1000_2 2018-06-11       3.0     1000      6         NaN\n",
       "3  1000_3 2018-09-21      14.0     1000      9         NaN\n",
       "4  1000_4 2018-12-15       6.0     1000     12         NaN"
      ]
     },
     "execution_count": 11,
     "metadata": {},
     "output_type": "execute_result"
    }
   ],
   "source": [
    "calls.head()"
   ]
  },
  {
   "cell_type": "markdown",
   "metadata": {},
   "source": [
    "**Обработаем интернет трафик**"
   ]
  },
  {
   "cell_type": "code",
   "execution_count": 12,
   "metadata": {},
   "outputs": [
    {
     "name": "stdout",
     "output_type": "stream",
     "text": [
      "Доля нулевого трафика:13.12%\n"
     ]
    }
   ],
   "source": [
    "print('Доля нулевого трафика:{:.2%}'.format(\n",
    "    len(internet.loc[internet['mb_used'] == 0])/len(internet)))"
   ]
  },
  {
   "cell_type": "code",
   "execution_count": 13,
   "metadata": {},
   "outputs": [
    {
     "data": {
      "text/plain": [
       "Text(0.5, 1.0, 'Зависимость количества нулевых сессий от общего числа интернет-сессий по месяцам')"
      ]
     },
     "execution_count": 13,
     "metadata": {},
     "output_type": "execute_result"
    },
    {
     "data": {
      "image/png": "[encoded data removed]",
      "text/plain": [
       "<Figure size 432x288 with 1 Axes>"
      ]
     },
     "metadata": {
      "needs_background": "light"
     },
     "output_type": "display_data"
    }
   ],
   "source": [
    "# добавим столбец со значением месяца\n",
    "internet['month'] = internet['session_date'].dt.month\n",
    "\n",
    "# построим график зависимости количества нулевых значений от общего числа звонков за каждый месяц\n",
    "internet.loc[internet['mb_used'] == 0, 'null_mb'] = 1\n",
    "internet.pivot_table(index='month', values=['id', 'null_mb'], aggfunc='count').plot(\n",
    "    x='id', y='null_mb',\n",
    "    grid=True)\n",
    "plt.xlabel('Общее количество интернет-сессий по месяцам')\n",
    "plt.ylabel('Количество нулевых интернет-сессий ')\n",
    "plt.title('Зависимость количества нулевых сессий от общего числа интернет-сессий по месяцам')"
   ]
  },
  {
   "cell_type": "markdown",
   "metadata": {},
   "source": [
    "По графику видно, что зависимость нулевых сессий от их общего количества аналогична зависимости по звонкам. \n",
    "Поэтому также округлим все значения в большую сторону (тариф считается по мегабайтам), а нулевые значения заменим на 1."
   ]
  },
  {
   "cell_type": "code",
   "execution_count": 14,
   "metadata": {
    "collapsed": true
   },
   "outputs": [],
   "source": [
    "internet['mb_used'] = internet['mb_used'].apply(np.ceil)\n",
    "internet.loc[internet['mb_used'] == 0, 'mb_used'] = 1"
   ]
  },
  {
   "cell_type": "code",
   "execution_count": 15,
   "metadata": {
    "scrolled": false
   },
   "outputs": [
    {
     "data": {
      "text/html": [
       "<div>\n",
       "<style scoped>\n",
       "    .dataframe tbody tr th:only-of-type {\n",
       "        vertical-align: middle;\n",
       "    }\n",
       "\n",
       "    .dataframe tbody tr th {\n",
       "        vertical-align: top;\n",
       "    }\n",
       "\n",
       "    .dataframe thead th {\n",
       "        text-align: right;\n",
       "    }\n",
       "</style>\n",
       "<table border=\"1\" class=\"dataframe\">\n",
       "  <thead>\n",
       "    <tr style=\"text-align: right;\">\n",
       "      <th></th>\n",
       "      <th>id</th>\n",
       "      <th>mb_used</th>\n",
       "      <th>session_date</th>\n",
       "      <th>user_id</th>\n",
       "      <th>month</th>\n",
       "      <th>null_mb</th>\n",
       "    </tr>\n",
       "  </thead>\n",
       "  <tbody>\n",
       "    <tr>\n",
       "      <td>0</td>\n",
       "      <td>1000_0</td>\n",
       "      <td>113.0</td>\n",
       "      <td>2018-11-25</td>\n",
       "      <td>1000</td>\n",
       "      <td>11</td>\n",
       "      <td>NaN</td>\n",
       "    </tr>\n",
       "    <tr>\n",
       "      <td>1</td>\n",
       "      <td>1000_1</td>\n",
       "      <td>1053.0</td>\n",
       "      <td>2018-09-07</td>\n",
       "      <td>1000</td>\n",
       "      <td>9</td>\n",
       "      <td>NaN</td>\n",
       "    </tr>\n",
       "    <tr>\n",
       "      <td>2</td>\n",
       "      <td>1000_2</td>\n",
       "      <td>1198.0</td>\n",
       "      <td>2018-06-25</td>\n",
       "      <td>1000</td>\n",
       "      <td>6</td>\n",
       "      <td>NaN</td>\n",
       "    </tr>\n",
       "    <tr>\n",
       "      <td>3</td>\n",
       "      <td>1000_3</td>\n",
       "      <td>551.0</td>\n",
       "      <td>2018-08-22</td>\n",
       "      <td>1000</td>\n",
       "      <td>8</td>\n",
       "      <td>NaN</td>\n",
       "    </tr>\n",
       "    <tr>\n",
       "      <td>4</td>\n",
       "      <td>1000_4</td>\n",
       "      <td>303.0</td>\n",
       "      <td>2018-09-24</td>\n",
       "      <td>1000</td>\n",
       "      <td>9</td>\n",
       "      <td>NaN</td>\n",
       "    </tr>\n",
       "  </tbody>\n",
       "</table>\n",
       "</div>"
      ],
      "text/plain": [
       "       id  mb_used session_date  user_id  month  null_mb\n",
       "0  1000_0    113.0   2018-11-25     1000     11      NaN\n",
       "1  1000_1   1053.0   2018-09-07     1000      9      NaN\n",
       "2  1000_2   1198.0   2018-06-25     1000      6      NaN\n",
       "3  1000_3    551.0   2018-08-22     1000      8      NaN\n",
       "4  1000_4    303.0   2018-09-24     1000      9      NaN"
      ]
     },
     "execution_count": 15,
     "metadata": {},
     "output_type": "execute_result"
    }
   ],
   "source": [
    "internet.head()"
   ]
  },
  {
   "cell_type": "markdown",
   "metadata": {},
   "source": [
    "#### 2.2 Расчет данных по каждому пользователю"
   ]
  },
  {
   "cell_type": "markdown",
   "metadata": {},
   "source": [
    "**Количество сделанных звонков и израсходованных минут разговора по месяцам**"
   ]
  },
  {
   "cell_type": "code",
   "execution_count": 16,
   "metadata": {
    "collapsed": true
   },
   "outputs": [],
   "source": [
    "users_calls = calls.merge(users, on='user_id')\n",
    "\n",
    "calls_grouped = users_calls.pivot_table(index=['user_id', 'month'], values=[ 'duration'], \n",
    "                       aggfunc=['count','sum'])\n",
    "calls_grouped.columns = ['calls', 'duration']\n",
    "\n",
    "calls_grouped = calls_grouped.reset_index()"
   ]
  },
  {
   "cell_type": "markdown",
   "metadata": {},
   "source": [
    "**Количество отправленных сообщений по месяцам**"
   ]
  },
  {
   "cell_type": "code",
   "execution_count": 17,
   "metadata": {
    "collapsed": true
   },
   "outputs": [],
   "source": [
    "messages['month'] = messages['message_date'].dt.month\n",
    "users_messages = messages.merge(users, on='user_id')\n",
    "messages_grouped = users_messages.pivot_table(index=['user_id', 'month'], values=['id'], \n",
    "                       aggfunc='count')\n",
    "messages_grouped.columns = ['messages']\n",
    "messages_grouped = messages_grouped.reset_index()"
   ]
  },
  {
   "cell_type": "markdown",
   "metadata": {},
   "source": [
    "**Объем израсходованного интернет-трафика по месяцам**"
   ]
  },
  {
   "cell_type": "code",
   "execution_count": 18,
   "metadata": {
    "collapsed": true
   },
   "outputs": [],
   "source": [
    "internet['month'] = internet['session_date'].dt.month\n",
    "users_internet = internet.merge(users, on='user_id')\n",
    "internet_grouped = users_internet.pivot_table(index=['user_id', 'month'], values=['mb_used'], \n",
    "                       aggfunc='sum')\n",
    "internet_grouped.columns = ['mb_used']\n",
    "internet_grouped = internet_grouped.reset_index()"
   ]
  },
  {
   "cell_type": "code",
   "execution_count": 19,
   "metadata": {},
   "outputs": [
    {
     "data": {
      "text/html": [
       "<div>\n",
       "<style scoped>\n",
       "    .dataframe tbody tr th:only-of-type {\n",
       "        vertical-align: middle;\n",
       "    }\n",
       "\n",
       "    .dataframe tbody tr th {\n",
       "        vertical-align: top;\n",
       "    }\n",
       "\n",
       "    .dataframe thead th {\n",
       "        text-align: right;\n",
       "    }\n",
       "</style>\n",
       "<table border=\"1\" class=\"dataframe\">\n",
       "  <thead>\n",
       "    <tr style=\"text-align: right;\">\n",
       "      <th></th>\n",
       "      <th>user_id</th>\n",
       "      <th>month</th>\n",
       "      <th>mb_used</th>\n",
       "    </tr>\n",
       "  </thead>\n",
       "  <tbody>\n",
       "    <tr>\n",
       "      <td>0</td>\n",
       "      <td>1000</td>\n",
       "      <td>5</td>\n",
       "      <td>2257.0</td>\n",
       "    </tr>\n",
       "    <tr>\n",
       "      <td>1</td>\n",
       "      <td>1000</td>\n",
       "      <td>6</td>\n",
       "      <td>23262.0</td>\n",
       "    </tr>\n",
       "    <tr>\n",
       "      <td>2</td>\n",
       "      <td>1000</td>\n",
       "      <td>7</td>\n",
       "      <td>14017.0</td>\n",
       "    </tr>\n",
       "    <tr>\n",
       "      <td>3</td>\n",
       "      <td>1000</td>\n",
       "      <td>8</td>\n",
       "      <td>14072.0</td>\n",
       "    </tr>\n",
       "    <tr>\n",
       "      <td>4</td>\n",
       "      <td>1000</td>\n",
       "      <td>9</td>\n",
       "      <td>14583.0</td>\n",
       "    </tr>\n",
       "  </tbody>\n",
       "</table>\n",
       "</div>"
      ],
      "text/plain": [
       "   user_id  month  mb_used\n",
       "0     1000      5   2257.0\n",
       "1     1000      6  23262.0\n",
       "2     1000      7  14017.0\n",
       "3     1000      8  14072.0\n",
       "4     1000      9  14583.0"
      ]
     },
     "execution_count": 19,
     "metadata": {},
     "output_type": "execute_result"
    }
   ],
   "source": [
    "internet_grouped.head()"
   ]
  },
  {
   "cell_type": "code",
   "execution_count": 20,
   "metadata": {
    "collapsed": true
   },
   "outputs": [],
   "source": [
    "#объединяем все сводные таблицы в одну: \n",
    "\n",
    "united_pivots = calls_grouped.merge(messages_grouped, on = ['user_id', 'month'], how='outer').merge(\n",
    "    internet_grouped, on = ['user_id', 'month'], how='outer')"
   ]
  },
  {
   "cell_type": "markdown",
   "metadata": {},
   "source": [
    "**Расчет помесячной выручки**"
   ]
  },
  {
   "cell_type": "markdown",
   "metadata": {},
   "source": [
    "В таблице появились пропуски после объединения таблиц в тех категориях, которые абоненты не использовали, поэтому их будет логично заменить на 0."
   ]
  },
  {
   "cell_type": "code",
   "execution_count": 21,
   "metadata": {
    "collapsed": true
   },
   "outputs": [],
   "source": [
    "# пропущенные значения заменяем на нули\n",
    "united_pivots = united_pivots.fillna(0)"
   ]
  },
  {
   "cell_type": "code",
   "execution_count": 22,
   "metadata": {
    "collapsed": true
   },
   "outputs": [],
   "source": [
    "#добавляем тариф для каждого пользователя\n",
    "united_data = united_pivots.merge(users[['user_id', 'tariff']], on = 'user_id')"
   ]
  },
  {
   "cell_type": "code",
   "execution_count": 23,
   "metadata": {},
   "outputs": [
    {
     "data": {
      "text/html": [
       "<div>\n",
       "<style scoped>\n",
       "    .dataframe tbody tr th:only-of-type {\n",
       "        vertical-align: middle;\n",
       "    }\n",
       "\n",
       "    .dataframe tbody tr th {\n",
       "        vertical-align: top;\n",
       "    }\n",
       "\n",
       "    .dataframe thead th {\n",
       "        text-align: right;\n",
       "    }\n",
       "</style>\n",
       "<table border=\"1\" class=\"dataframe\">\n",
       "  <thead>\n",
       "    <tr style=\"text-align: right;\">\n",
       "      <th></th>\n",
       "      <th>user_id</th>\n",
       "      <th>month</th>\n",
       "      <th>calls</th>\n",
       "      <th>duration</th>\n",
       "      <th>messages</th>\n",
       "      <th>mb_used</th>\n",
       "      <th>tariff</th>\n",
       "    </tr>\n",
       "  </thead>\n",
       "  <tbody>\n",
       "    <tr>\n",
       "      <td>0</td>\n",
       "      <td>1000</td>\n",
       "      <td>5</td>\n",
       "      <td>22.0</td>\n",
       "      <td>164.0</td>\n",
       "      <td>22.0</td>\n",
       "      <td>2257.0</td>\n",
       "      <td>ultra</td>\n",
       "    </tr>\n",
       "    <tr>\n",
       "      <td>1</td>\n",
       "      <td>1000</td>\n",
       "      <td>6</td>\n",
       "      <td>43.0</td>\n",
       "      <td>187.0</td>\n",
       "      <td>60.0</td>\n",
       "      <td>23262.0</td>\n",
       "      <td>ultra</td>\n",
       "    </tr>\n",
       "    <tr>\n",
       "      <td>2</td>\n",
       "      <td>1000</td>\n",
       "      <td>7</td>\n",
       "      <td>47.0</td>\n",
       "      <td>346.0</td>\n",
       "      <td>75.0</td>\n",
       "      <td>14017.0</td>\n",
       "      <td>ultra</td>\n",
       "    </tr>\n",
       "    <tr>\n",
       "      <td>3</td>\n",
       "      <td>1000</td>\n",
       "      <td>8</td>\n",
       "      <td>52.0</td>\n",
       "      <td>418.0</td>\n",
       "      <td>81.0</td>\n",
       "      <td>14072.0</td>\n",
       "      <td>ultra</td>\n",
       "    </tr>\n",
       "    <tr>\n",
       "      <td>4</td>\n",
       "      <td>1000</td>\n",
       "      <td>9</td>\n",
       "      <td>58.0</td>\n",
       "      <td>478.0</td>\n",
       "      <td>57.0</td>\n",
       "      <td>14583.0</td>\n",
       "      <td>ultra</td>\n",
       "    </tr>\n",
       "  </tbody>\n",
       "</table>\n",
       "</div>"
      ],
      "text/plain": [
       "   user_id  month  calls  duration  messages  mb_used tariff\n",
       "0     1000      5   22.0     164.0      22.0   2257.0  ultra\n",
       "1     1000      6   43.0     187.0      60.0  23262.0  ultra\n",
       "2     1000      7   47.0     346.0      75.0  14017.0  ultra\n",
       "3     1000      8   52.0     418.0      81.0  14072.0  ultra\n",
       "4     1000      9   58.0     478.0      57.0  14583.0  ultra"
      ]
     },
     "execution_count": 23,
     "metadata": {},
     "output_type": "execute_result"
    }
   ],
   "source": [
    "united_data.head()"
   ]
  },
  {
   "cell_type": "code",
   "execution_count": 24,
   "metadata": {},
   "outputs": [
    {
     "data": {
      "text/html": [
       "<div>\n",
       "<style scoped>\n",
       "    .dataframe tbody tr th:only-of-type {\n",
       "        vertical-align: middle;\n",
       "    }\n",
       "\n",
       "    .dataframe tbody tr th {\n",
       "        vertical-align: top;\n",
       "    }\n",
       "\n",
       "    .dataframe thead th {\n",
       "        text-align: right;\n",
       "    }\n",
       "</style>\n",
       "<table border=\"1\" class=\"dataframe\">\n",
       "  <thead>\n",
       "    <tr style=\"text-align: right;\">\n",
       "      <th></th>\n",
       "      <th>messages_included</th>\n",
       "      <th>mb_per_month_included</th>\n",
       "      <th>minutes_included</th>\n",
       "      <th>rub_monthly_fee</th>\n",
       "      <th>rub_per_gb</th>\n",
       "      <th>rub_per_message</th>\n",
       "      <th>rub_per_minute</th>\n",
       "      <th>tariff_name</th>\n",
       "    </tr>\n",
       "  </thead>\n",
       "  <tbody>\n",
       "    <tr>\n",
       "      <td>0</td>\n",
       "      <td>50</td>\n",
       "      <td>15360</td>\n",
       "      <td>500</td>\n",
       "      <td>550</td>\n",
       "      <td>200</td>\n",
       "      <td>3</td>\n",
       "      <td>3</td>\n",
       "      <td>smart</td>\n",
       "    </tr>\n",
       "    <tr>\n",
       "      <td>1</td>\n",
       "      <td>1000</td>\n",
       "      <td>30720</td>\n",
       "      <td>3000</td>\n",
       "      <td>1950</td>\n",
       "      <td>150</td>\n",
       "      <td>1</td>\n",
       "      <td>1</td>\n",
       "      <td>ultra</td>\n",
       "    </tr>\n",
       "  </tbody>\n",
       "</table>\n",
       "</div>"
      ],
      "text/plain": [
       "   messages_included  mb_per_month_included  minutes_included  \\\n",
       "0                 50                  15360               500   \n",
       "1               1000                  30720              3000   \n",
       "\n",
       "   rub_monthly_fee  rub_per_gb  rub_per_message  rub_per_minute tariff_name  \n",
       "0              550         200                3               3       smart  \n",
       "1             1950         150                1               1       ultra  "
      ]
     },
     "execution_count": 24,
     "metadata": {},
     "output_type": "execute_result"
    }
   ],
   "source": [
    "tariffs.head()"
   ]
  },
  {
   "cell_type": "markdown",
   "metadata": {},
   "source": [
    "(вычтите бесплатный лимит из суммарного количества звонков, сообщений и интернет-трафика; \n",
    "остаток умножьте на значение из тарифного плана; \n",
    "прибавьте абонентскую плату, соответствующую тарифному плану).\n"
   ]
  },
  {
   "cell_type": "code",
   "execution_count": 25,
   "metadata": {
    "collapsed": true
   },
   "outputs": [],
   "source": [
    "#напишем функцию, которая считает выручку с каждого пользователя\n",
    "\n",
    "def revenue(row):\n",
    "    duration = row['duration']\n",
    "    messages = row['messages']\n",
    "    mb_used = row['mb_used']\n",
    "    tariff = row['tariff']\n",
    "    \n",
    "    extra_duration = duration - tariffs.loc[0, 'minutes_included']\n",
    "    extra_messages = messages - tariffs.loc[0, 'messages_included']\n",
    "    extra_mb = mb_used - tariffs.loc[0, 'mb_per_month_included']\n",
    "        \n",
    "    if extra_duration < 0: extra_duration = 0\n",
    "    if extra_mb < 0: extra_mb = 0\n",
    "    if extra_messages < 0: extra_messages = 0\n",
    "        \n",
    "    if tariff == 'smart':\n",
    "        return round(extra_messages * tariffs.loc[0, 'rub_per_message'] + \n",
    "                (np.ceil(extra_mb / 1024) * tariffs.loc[0, 'rub_per_gb'] ) + \n",
    "                extra_duration * tariffs.loc[0, 'rub_per_minute'] + \n",
    "                tariffs.loc[0, 'rub_monthly_fee'], 2) \n",
    "    else:\n",
    "        return round(extra_messages * tariffs.loc[1, 'rub_per_message'] + \n",
    "                (np.ceil(extra_mb / 1024) * tariffs.loc[1, 'rub_per_gb'] ) + \n",
    "                extra_duration * tariffs.loc[1, 'rub_per_minute'] + \n",
    "                tariffs.loc[1, 'rub_monthly_fee'], 2) "
   ]
  },
  {
   "cell_type": "code",
   "execution_count": 26,
   "metadata": {},
   "outputs": [
    {
     "data": {
      "text/html": [
       "<div>\n",
       "<style scoped>\n",
       "    .dataframe tbody tr th:only-of-type {\n",
       "        vertical-align: middle;\n",
       "    }\n",
       "\n",
       "    .dataframe tbody tr th {\n",
       "        vertical-align: top;\n",
       "    }\n",
       "\n",
       "    .dataframe thead th {\n",
       "        text-align: right;\n",
       "    }\n",
       "</style>\n",
       "<table border=\"1\" class=\"dataframe\">\n",
       "  <thead>\n",
       "    <tr style=\"text-align: right;\">\n",
       "      <th></th>\n",
       "      <th>user_id</th>\n",
       "      <th>month</th>\n",
       "      <th>calls</th>\n",
       "      <th>duration</th>\n",
       "      <th>messages</th>\n",
       "      <th>mb_used</th>\n",
       "      <th>tariff</th>\n",
       "      <th>revenue</th>\n",
       "    </tr>\n",
       "  </thead>\n",
       "  <tbody>\n",
       "    <tr>\n",
       "      <td>0</td>\n",
       "      <td>1000</td>\n",
       "      <td>5</td>\n",
       "      <td>22.0</td>\n",
       "      <td>164.0</td>\n",
       "      <td>22.0</td>\n",
       "      <td>2257.0</td>\n",
       "      <td>ultra</td>\n",
       "      <td>1950.0</td>\n",
       "    </tr>\n",
       "    <tr>\n",
       "      <td>1</td>\n",
       "      <td>1000</td>\n",
       "      <td>6</td>\n",
       "      <td>43.0</td>\n",
       "      <td>187.0</td>\n",
       "      <td>60.0</td>\n",
       "      <td>23262.0</td>\n",
       "      <td>ultra</td>\n",
       "      <td>3160.0</td>\n",
       "    </tr>\n",
       "    <tr>\n",
       "      <td>2</td>\n",
       "      <td>1000</td>\n",
       "      <td>7</td>\n",
       "      <td>47.0</td>\n",
       "      <td>346.0</td>\n",
       "      <td>75.0</td>\n",
       "      <td>14017.0</td>\n",
       "      <td>ultra</td>\n",
       "      <td>1975.0</td>\n",
       "    </tr>\n",
       "    <tr>\n",
       "      <td>3</td>\n",
       "      <td>1000</td>\n",
       "      <td>8</td>\n",
       "      <td>52.0</td>\n",
       "      <td>418.0</td>\n",
       "      <td>81.0</td>\n",
       "      <td>14072.0</td>\n",
       "      <td>ultra</td>\n",
       "      <td>1981.0</td>\n",
       "    </tr>\n",
       "    <tr>\n",
       "      <td>4</td>\n",
       "      <td>1000</td>\n",
       "      <td>9</td>\n",
       "      <td>58.0</td>\n",
       "      <td>478.0</td>\n",
       "      <td>57.0</td>\n",
       "      <td>14583.0</td>\n",
       "      <td>ultra</td>\n",
       "      <td>1957.0</td>\n",
       "    </tr>\n",
       "    <tr>\n",
       "      <td>5</td>\n",
       "      <td>1000</td>\n",
       "      <td>10</td>\n",
       "      <td>57.0</td>\n",
       "      <td>363.0</td>\n",
       "      <td>73.0</td>\n",
       "      <td>14717.0</td>\n",
       "      <td>ultra</td>\n",
       "      <td>1973.0</td>\n",
       "    </tr>\n",
       "    <tr>\n",
       "      <td>6</td>\n",
       "      <td>1000</td>\n",
       "      <td>11</td>\n",
       "      <td>43.0</td>\n",
       "      <td>344.0</td>\n",
       "      <td>58.0</td>\n",
       "      <td>14769.0</td>\n",
       "      <td>ultra</td>\n",
       "      <td>1958.0</td>\n",
       "    </tr>\n",
       "    <tr>\n",
       "      <td>7</td>\n",
       "      <td>1000</td>\n",
       "      <td>12</td>\n",
       "      <td>46.0</td>\n",
       "      <td>341.0</td>\n",
       "      <td>70.0</td>\n",
       "      <td>9829.0</td>\n",
       "      <td>ultra</td>\n",
       "      <td>1970.0</td>\n",
       "    </tr>\n",
       "    <tr>\n",
       "      <td>8</td>\n",
       "      <td>1001</td>\n",
       "      <td>11</td>\n",
       "      <td>59.0</td>\n",
       "      <td>444.0</td>\n",
       "      <td>0.0</td>\n",
       "      <td>18460.0</td>\n",
       "      <td>smart</td>\n",
       "      <td>1350.0</td>\n",
       "    </tr>\n",
       "    <tr>\n",
       "      <td>9</td>\n",
       "      <td>1001</td>\n",
       "      <td>12</td>\n",
       "      <td>63.0</td>\n",
       "      <td>430.0</td>\n",
       "      <td>0.0</td>\n",
       "      <td>14059.0</td>\n",
       "      <td>smart</td>\n",
       "      <td>550.0</td>\n",
       "    </tr>\n",
       "  </tbody>\n",
       "</table>\n",
       "</div>"
      ],
      "text/plain": [
       "   user_id  month  calls  duration  messages  mb_used tariff  revenue\n",
       "0     1000      5   22.0     164.0      22.0   2257.0  ultra   1950.0\n",
       "1     1000      6   43.0     187.0      60.0  23262.0  ultra   3160.0\n",
       "2     1000      7   47.0     346.0      75.0  14017.0  ultra   1975.0\n",
       "3     1000      8   52.0     418.0      81.0  14072.0  ultra   1981.0\n",
       "4     1000      9   58.0     478.0      57.0  14583.0  ultra   1957.0\n",
       "5     1000     10   57.0     363.0      73.0  14717.0  ultra   1973.0\n",
       "6     1000     11   43.0     344.0      58.0  14769.0  ultra   1958.0\n",
       "7     1000     12   46.0     341.0      70.0   9829.0  ultra   1970.0\n",
       "8     1001     11   59.0     444.0       0.0  18460.0  smart   1350.0\n",
       "9     1001     12   63.0     430.0       0.0  14059.0  smart    550.0"
      ]
     },
     "execution_count": 26,
     "metadata": {},
     "output_type": "execute_result"
    }
   ],
   "source": [
    "united_data['revenue'] = united_data.apply(revenue, axis=1)\n",
    "united_data.head(10)"
   ]
  },
  {
   "cell_type": "markdown",
   "metadata": {},
   "source": [
    "### Вывод\n",
    "\n",
    "Заменили данные  с датой и временем со строчного на временной\n",
    "\n",
    "Выделили долю звонков с нулевой длительностью - 19.55%. \n",
    "\n",
    "Выделили долю трафика объемом 0 МБ - 13.12%. \n",
    "\n",
    "Так же мы выяснили ,что то чем больше общее количество звонков и объем использованного трафика, тем больше звонков с нулевой длительностью и сессий объемом 0 МБ. Все значения мы округлили в большую сторону, а  а нулевые значения заменили на 1.\n",
    "\n",
    "Кроме того, что каждого пользователя мы рассчитали:\n",
    "* \t\tколичество сделанных звонков и израсходованных минут разговора по месяцам;\n",
    "* \t\tколичество отправленных сообщений по месяцам;\n",
    "* \t\tобъем израсходованного интернет-трафика по месяцам;\n",
    "* \t\tпомесячную выручку с каждого пользователя\n",
    "\n",
    "\n",
    "\n"
   ]
  },
  {
   "cell_type": "markdown",
   "metadata": {},
   "source": [
    "###  Шаг 3. Анализ поведения клиентов"
   ]
  },
  {
   "cell_type": "markdown",
   "metadata": {},
   "source": [
    "**3.1 Посчитаем, сколько минут разговора, сколько сообщений и какой объём интернет-трафика требуется в среднем пользователям каждого тарифа в месяц**"
   ]
  },
  {
   "cell_type": "code",
   "execution_count": 27,
   "metadata": {},
   "outputs": [
    {
     "data": {
      "text/html": [
       "<div>\n",
       "<style scoped>\n",
       "    .dataframe tbody tr th:only-of-type {\n",
       "        vertical-align: middle;\n",
       "    }\n",
       "\n",
       "    .dataframe tbody tr th {\n",
       "        vertical-align: top;\n",
       "    }\n",
       "\n",
       "    .dataframe thead th {\n",
       "        text-align: right;\n",
       "    }\n",
       "</style>\n",
       "<table border=\"1\" class=\"dataframe\">\n",
       "  <thead>\n",
       "    <tr style=\"text-align: right;\">\n",
       "      <th></th>\n",
       "      <th>user_id</th>\n",
       "      <th>duration</th>\n",
       "      <th>mb_used</th>\n",
       "      <th>messages</th>\n",
       "      <th>tariff</th>\n",
       "    </tr>\n",
       "  </thead>\n",
       "  <tbody>\n",
       "    <tr>\n",
       "      <td>0</td>\n",
       "      <td>1000</td>\n",
       "      <td>345.0</td>\n",
       "      <td>14327.5</td>\n",
       "      <td>65.0</td>\n",
       "      <td>ultra</td>\n",
       "    </tr>\n",
       "    <tr>\n",
       "      <td>1</td>\n",
       "      <td>1001</td>\n",
       "      <td>437.0</td>\n",
       "      <td>16259.5</td>\n",
       "      <td>0.0</td>\n",
       "      <td>smart</td>\n",
       "    </tr>\n",
       "    <tr>\n",
       "      <td>2</td>\n",
       "      <td>1002</td>\n",
       "      <td>221.0</td>\n",
       "      <td>17615.0</td>\n",
       "      <td>11.0</td>\n",
       "      <td>smart</td>\n",
       "    </tr>\n",
       "    <tr>\n",
       "      <td>3</td>\n",
       "      <td>1003</td>\n",
       "      <td>844.0</td>\n",
       "      <td>11369.0</td>\n",
       "      <td>83.0</td>\n",
       "      <td>ultra</td>\n",
       "    </tr>\n",
       "    <tr>\n",
       "      <td>4</td>\n",
       "      <td>1004</td>\n",
       "      <td>136.5</td>\n",
       "      <td>17831.0</td>\n",
       "      <td>154.5</td>\n",
       "      <td>ultra</td>\n",
       "    </tr>\n",
       "  </tbody>\n",
       "</table>\n",
       "</div>"
      ],
      "text/plain": [
       "   user_id  duration  mb_used  messages tariff\n",
       "0     1000     345.0  14327.5      65.0  ultra\n",
       "1     1001     437.0  16259.5       0.0  smart\n",
       "2     1002     221.0  17615.0      11.0  smart\n",
       "3     1003     844.0  11369.0      83.0  ultra\n",
       "4     1004     136.5  17831.0     154.5  ultra"
      ]
     },
     "execution_count": 27,
     "metadata": {},
     "output_type": "execute_result"
    }
   ],
   "source": [
    "#посчитаем медиану для каждого пользователя в месяц\n",
    "medians = united_data.pivot_table(index='user_id', values=['duration', 'messages', 'mb_used'], aggfunc='median')\n",
    "\n",
    "#добавляем тариф для каждого пользователя\n",
    "medians = medians.merge(users[['user_id', 'tariff']], on = 'user_id')\n",
    "\n",
    "medians.head()"
   ]
  },
  {
   "cell_type": "code",
   "execution_count": 28,
   "metadata": {},
   "outputs": [
    {
     "data": {
      "text/html": [
       "<div>\n",
       "<style scoped>\n",
       "    .dataframe tbody tr th:only-of-type {\n",
       "        vertical-align: middle;\n",
       "    }\n",
       "\n",
       "    .dataframe tbody tr th {\n",
       "        vertical-align: top;\n",
       "    }\n",
       "\n",
       "    .dataframe thead tr th {\n",
       "        text-align: left;\n",
       "    }\n",
       "\n",
       "    .dataframe thead tr:last-of-type th {\n",
       "        text-align: right;\n",
       "    }\n",
       "</style>\n",
       "<table border=\"1\" class=\"dataframe\">\n",
       "  <thead>\n",
       "    <tr>\n",
       "      <th></th>\n",
       "      <th colspan=\"3\" halign=\"left\">duration</th>\n",
       "      <th colspan=\"3\" halign=\"left\">mb_used</th>\n",
       "      <th colspan=\"3\" halign=\"left\">messages</th>\n",
       "    </tr>\n",
       "    <tr>\n",
       "      <th></th>\n",
       "      <th>median</th>\n",
       "      <th>std</th>\n",
       "      <th>var</th>\n",
       "      <th>median</th>\n",
       "      <th>std</th>\n",
       "      <th>var</th>\n",
       "      <th>median</th>\n",
       "      <th>std</th>\n",
       "      <th>var</th>\n",
       "    </tr>\n",
       "    <tr>\n",
       "      <th>tariff</th>\n",
       "      <th></th>\n",
       "      <th></th>\n",
       "      <th></th>\n",
       "      <th></th>\n",
       "      <th></th>\n",
       "      <th></th>\n",
       "      <th></th>\n",
       "      <th></th>\n",
       "      <th></th>\n",
       "    </tr>\n",
       "  </thead>\n",
       "  <tbody>\n",
       "    <tr>\n",
       "      <td>smart</td>\n",
       "      <td>453.0</td>\n",
       "      <td>164.614327</td>\n",
       "      <td>27097.876586</td>\n",
       "      <td>16955.00</td>\n",
       "      <td>4181.498288</td>\n",
       "      <td>1.748493e+07</td>\n",
       "      <td>28.5</td>\n",
       "      <td>28.010653</td>\n",
       "      <td>784.596662</td>\n",
       "    </tr>\n",
       "    <tr>\n",
       "      <td>ultra</td>\n",
       "      <td>550.5</td>\n",
       "      <td>311.491491</td>\n",
       "      <td>97026.949014</td>\n",
       "      <td>19751.75</td>\n",
       "      <td>8901.975727</td>\n",
       "      <td>7.924517e+07</td>\n",
       "      <td>47.5</td>\n",
       "      <td>49.236809</td>\n",
       "      <td>2424.263318</td>\n",
       "    </tr>\n",
       "  </tbody>\n",
       "</table>\n",
       "</div>"
      ],
      "text/plain": [
       "       duration                             mb_used               \\\n",
       "         median         std           var    median          std   \n",
       "tariff                                                             \n",
       "smart     453.0  164.614327  27097.876586  16955.00  4181.498288   \n",
       "ultra     550.5  311.491491  97026.949014  19751.75  8901.975727   \n",
       "\n",
       "                     messages                          \n",
       "                 var   median        std          var  \n",
       "tariff                                                 \n",
       "smart   1.748493e+07     28.5  28.010653   784.596662  \n",
       "ultra   7.924517e+07     47.5  49.236809  2424.263318  "
      ]
     },
     "execution_count": 28,
     "metadata": {},
     "output_type": "execute_result"
    }
   ],
   "source": [
    "#посчитаем медиану, дисперсию и стандартное отклонение для каждого тарифа\n",
    "\n",
    "tariff_stat = medians.pivot_table(index='tariff', values=['duration', 'mb_used', 'messages'], \n",
    "                                  aggfunc={'duration': [np.median, np.var, np.std], \n",
    "                                            'mb_used': [np.median, np.var, np.std], \n",
    "                                            'messages': [np.median, np.var, np.std]})\n",
    "tariff_stat"
   ]
  },
  {
   "cell_type": "code",
   "execution_count": 29,
   "metadata": {},
   "outputs": [
    {
     "data": {
      "image/png": "[encoded data removed]",
      "text/plain": [
       "<Figure size 432x288 with 1 Axes>"
      ]
     },
     "metadata": {
      "needs_background": "light"
     },
     "output_type": "display_data"
    }
   ],
   "source": [
    "#построим гистограмму по длительности разговоров для тарифов\n",
    "for tariff in ['ultra', 'smart']:\n",
    "    medians[medians['tariff']==tariff ]['duration'].hist(alpha=0.5)\n",
    "    plt.legend(['ultra', 'smart'])\n",
    "    plt.title('Гисторамма длительности разговоров')\n",
    "    plt.xlabel('duration')"
   ]
  },
  {
   "cell_type": "code",
   "execution_count": 30,
   "metadata": {},
   "outputs": [
    {
     "data": {
      "image/png": "[encoded data removed]",
      "text/plain": [
       "<Figure size 432x288 with 1 Axes>"
      ]
     },
     "metadata": {
      "needs_background": "light"
     },
     "output_type": "display_data"
    }
   ],
   "source": [
    "#построим гистограмму по количеству потраченного трафика\n",
    "for tariff in ['ultra', 'smart']:\n",
    "    medians[medians['tariff']==tariff ]['mb_used'].hist(alpha=0.5)\n",
    "    plt.legend(['ultra', 'smart'])\n",
    "    plt.title('Гисторамма по количеству потраченного трафика')\n",
    "    plt.xlabel('mb_used')"
   ]
  },
  {
   "cell_type": "code",
   "execution_count": 31,
   "metadata": {
    "scrolled": true
   },
   "outputs": [
    {
     "data": {
      "image/png": "[encoded data removed]",
      "text/plain": [
       "<Figure size 432x288 with 1 Axes>"
      ]
     },
     "metadata": {
      "needs_background": "light"
     },
     "output_type": "display_data"
    }
   ],
   "source": [
    "#построим гистограмму по количеству отправленных сообщений\n",
    "for tariff in ['ultra', 'smart']:\n",
    "    medians[medians['tariff']==tariff ]['messages'].hist(alpha=0.5)\n",
    "    plt.legend(['ultra', 'smart'])\n",
    "    plt.title('Гисторамма по количеству отправленных сообщений')\n",
    "    plt.xlabel('messages')"
   ]
  },
  {
   "cell_type": "markdown",
   "metadata": {},
   "source": [
    "#### Для того, чтобы точнее ответить на вопрос, какой тариф приносит больше выручки, посмотрим на распределение выручки тарифов по месяцам: "
   ]
  },
  {
   "cell_type": "code",
   "execution_count": 32,
   "metadata": {},
   "outputs": [
    {
     "data": {
      "text/plain": [
       "Text(0.5, 1, 'Распределение по средней выручке в месяц для тарифов')"
      ]
     },
     "execution_count": 32,
     "metadata": {},
     "output_type": "execute_result"
    },
    {
     "data": {
      "image/png": "[encoded data removed]",
      "text/plain": [
       "<Figure size 425x360 with 1 Axes>"
      ]
     },
     "metadata": {
      "needs_background": "light"
     },
     "output_type": "display_data"
    }
   ],
   "source": [
    "monthly_revenue =  united_data.pivot_table(index=['tariff','month'], \n",
    "                                           values=['revenue'], \n",
    "                                           aggfunc='median')\n",
    "monthly_revenue = monthly_revenue.reset_index()\n",
    "#построим распределение по средней выручке в месяц для тарифов\n",
    "sns.relplot(x=\"month\", y=\"revenue\", hue=\"tariff\", kind=\"line\", data=monthly_revenue)\n",
    "plt.xlabel('Месяц')\n",
    "plt.ylabel('Средняя выручка')\n",
    "plt.title('Распределение по средней выручке в месяц для тарифов')"
   ]
  },
  {
   "cell_type": "markdown",
   "metadata": {},
   "source": [
    "#### Посмотрим, как распределяется средняя выручка по пользователям: "
   ]
  },
  {
   "cell_type": "code",
   "execution_count": 33,
   "metadata": {},
   "outputs": [
    {
     "data": {
      "image/png": "[encoded data removed]",
      "text/plain": [
       "<Figure size 432x288 with 1 Axes>"
      ]
     },
     "metadata": {
      "needs_background": "light"
     },
     "output_type": "display_data"
    }
   ],
   "source": [
    "user_revenue = united_data.pivot_table(index=['user_id', 'tariff'], \n",
    "                                           values=['revenue'], \n",
    "                                           aggfunc='median')\n",
    "user_revenue = user_revenue.reset_index()\n",
    "\n",
    "for tariff in ['ultra', 'smart']:\n",
    "    user_revenue[user_revenue['tariff']==tariff ]['revenue'].hist(alpha=0.5)\n",
    "    plt.legend(['ultra', 'smart'])\n",
    "    plt.title('Гисторамма по средней выручке по пользователям каждого тарифа')\n",
    "    plt.xlabel('revenue')"
   ]
  },
  {
   "cell_type": "markdown",
   "metadata": {},
   "source": [
    "Распределение по средней выручке по месяцам наглядно показывает, что тариф \"Ультра\" в среднем приносит в 2.5 раза большее денег, чем тариф \"Смарт\". Средняя выручка с обоих тарифов стабильно увеличивается от месяца к месяцу в течение года, кроме апреля: в этом месяце наблюдается ее снижение. \n",
    "\n",
    "Распределение по средней выручке пользователей показывает, что пользователям тарифа \"Смарт\" не хватает их тарифного плана, более того, около 10% пользователей этого в среднем тратят на связь столько же или даже больше, чем если бы они находились на более дорогом тарифе. "
   ]
  },
  {
   "cell_type": "markdown",
   "metadata": {},
   "source": [
    "#### Изучим суммарную выручку по тарифам по месяцам"
   ]
  },
  {
   "cell_type": "code",
   "execution_count": 34,
   "metadata": {},
   "outputs": [
    {
     "data": {
      "text/plain": [
       "Text(0.5, 1, 'Распределение по суммарной выручке в месяц для тарифов')"
      ]
     },
     "execution_count": 34,
     "metadata": {},
     "output_type": "execute_result"
    },
    {
     "data": {
      "image/png": "[encoded data removed]",
      "text/plain": [
       "<Figure size 425x360 with 1 Axes>"
      ]
     },
     "metadata": {
      "needs_background": "light"
     },
     "output_type": "display_data"
    }
   ],
   "source": [
    "monthly_sum_revenue =  united_data.pivot_table(index=['tariff','month'], \n",
    "                                           values=['revenue'], \n",
    "                                           aggfunc='sum')\n",
    "monthly_sum_revenue = monthly_sum_revenue.reset_index()\n",
    "#построим распределение по средней выручке в месяц для тарифов\n",
    "sns.relplot(x=\"month\", y=\"revenue\", hue=\"tariff\", kind=\"line\", data=monthly_sum_revenue)\n",
    "plt.xlabel('Месяц')\n",
    "plt.ylabel('Суммарная выручка')\n",
    "plt.title('Распределение по суммарной выручке в месяц для тарифов')"
   ]
  },
  {
   "cell_type": "markdown",
   "metadata": {},
   "source": [
    "#### Посмотрим, как распределяется суммарная выручка по пользователям: "
   ]
  },
  {
   "cell_type": "code",
   "execution_count": 35,
   "metadata": {},
   "outputs": [
    {
     "data": {
      "image/png": "[encoded data removed]",
      "text/plain": [
       "<Figure size 432x288 with 1 Axes>"
      ]
     },
     "metadata": {
      "needs_background": "light"
     },
     "output_type": "display_data"
    }
   ],
   "source": [
    "user_sum_revenue = united_data.pivot_table(index=['user_id', 'tariff'], \n",
    "                                           values=['revenue'], \n",
    "                                           aggfunc='sum')\n",
    "user_sum_revenue = user_sum_revenue.reset_index()\n",
    "\n",
    "for tariff in ['ultra', 'smart']:\n",
    "    user_sum_revenue[user_sum_revenue['tariff']==tariff ]['revenue'].hist(alpha=0.5)\n",
    "    plt.legend(['ultra', 'smart'])\n",
    "    plt.title('Гисторамма по суммарной выручке по пользователям каждого тарифа')\n",
    "    plt.xlabel('revenue')"
   ]
  },
  {
   "cell_type": "markdown",
   "metadata": {},
   "source": [
    "В отличие от графика по распределениям средних значений, график по суммарной выручке по месяцам показавает, что \n",
    "с января по сентябрь выручка по тарифу \"Ультра\" немного больше, чем по тарифу \"Смарт\". Однако, с сентября картина меняется на противоположную. \n",
    "\n",
    "Что касается касается распределения по пользователям, то  он показывает, что большая часть абонентов тарифа \"Смарт\" тратит до 10000 тысяч за год, тогда как выручка от пользователей тарифа \"Ультра\" распределена более равномерно: большая их часть тратит от 3000 ло 28000 тысяч за год. "
   ]
  },
  {
   "cell_type": "markdown",
   "metadata": {},
   "source": [
    "### Вывод\n",
    "\n",
    "По гистограммам можно сделать вывод, что пользователи тарифа «Смарт» чаще выходят за пределы тарифного плана (медиана, близкая к значениям пакетов, включенным в трафик это подтверждает), тогда как пользователи тарифа «Ультра» докупают только пакеты трафика. Эту гипотезу так же подтверждает график распределения средней выручки по пользователям. Возможно, стоит предложить пользователям тарифа «Смарт», которые  часто докупают дополнительные пакеты услуг за пределами тарифа, перейти на более дорогой тариф.\n",
    "\n",
    "Стандартное отклонение и дисперсия по тарифу «Смарт» ниже, чем по тарифу «Ультра» по всем показателям: по длительности разговоров, по количеству потраченных мегабайт и отправленных сообщений. Возможно, это объясняется тем, что пользователи тарифа «Ультра» чувствуют себя комфортнее в рамках своего пакета. \n",
    "\n",
    "Кроме того, по графикам можно предположить, что суммарная выручка от обоих тарифов примерно однакова, однако тариф \"Ультра\" все же приносит больше денег."
   ]
  },
  {
   "cell_type": "markdown",
   "metadata": {},
   "source": [
    "###  Шаг 4. Проверка гипотез"
   ]
  },
  {
   "cell_type": "markdown",
   "metadata": {},
   "source": [
    "Перед проверкой гипотез сравним дисперсии выборок, чтобы правильно установить параметр equal_var"
   ]
  },
  {
   "cell_type": "code",
   "execution_count": 36,
   "metadata": {
    "collapsed": true
   },
   "outputs": [],
   "source": [
    "smart_revenue_var = united_data[united_data['tariff'] == 'smart'].pivot_table(index='tariff', values=['revenue'], \n",
    "                                  aggfunc=np.var)\n",
    "ultra_revenue_var = united_data[united_data['tariff'] == 'ultra'].pivot_table(index='tariff', values=['revenue'], \n",
    "                                  aggfunc=np.var)"
   ]
  },
  {
   "cell_type": "code",
   "execution_count": 37,
   "metadata": {},
   "outputs": [
    {
     "name": "stdout",
     "output_type": "stream",
     "text": [
      "Дисперсии выборок отличаются на 49.54%\n"
     ]
    }
   ],
   "source": [
    "print('Дисперсии выборок отличаются на {:.2%}'.format(1 - smart_revenue_var['revenue'][0]/ultra_revenue_var['revenue'][0]))"
   ]
  },
  {
   "cell_type": "markdown",
   "metadata": {},
   "source": [
    "#### Гипотеза 1: средняя выручка пользователей тарифов «Ультра» и «Смарт» различается\n",
    "\n",
    "𝐻0  — средняя выручка пользователей тарифа «Ультра» равна средней выручке пользователей тарифа «Смарт».\n",
    "\n",
    "𝐻1 — средняя выручка пользователей тарифов «Ультра» и «Смарт» различаются"
   ]
  },
  {
   "cell_type": "code",
   "execution_count": 38,
   "metadata": {},
   "outputs": [
    {
     "name": "stdout",
     "output_type": "stream",
     "text": [
      "p-значение:  1.1015191190306594e-266\n",
      "Отвергаем нулевую гипотезу\n"
     ]
    }
   ],
   "source": [
    "smart = united_data['revenue'][united_data['tariff'] == 'smart']\n",
    "\n",
    "ultra = united_data['revenue'][united_data['tariff'] == 'ultra']\n",
    "\n",
    "alpha = .05\n",
    "\n",
    "results = st.ttest_ind(smart, ultra, equal_var = False)\n",
    "\n",
    "print('p-значение: ', results.pvalue)\n",
    "\n",
    "if (results.pvalue < alpha):\n",
    "    print(\"Отвергаем нулевую гипотезу\")\n",
    "else:\n",
    "    print(\"Не получилось отвергнуть нулевую гипотезу\")"
   ]
  },
  {
   "cell_type": "markdown",
   "metadata": {},
   "source": [
    "Очевидно, что средняя выручка тарифов различается. Попробуем предположить, что выручка тарифа \"Ультра\" больше выручки тарифа \"Смарт\"\n",
    "\n",
    "𝐻0  — средняя выручка пользователей тарифа «Ультра» равна средней выручке пользователей тарифа «Смарт».\n",
    "\n",
    "𝐻1 — средняя выручка тарифа \"Ультра\" больше средней выручки тарифа \"Смарт\""
   ]
  },
  {
   "cell_type": "code",
   "execution_count": 39,
   "metadata": {
    "scrolled": true
   },
   "outputs": [
    {
     "name": "stdout",
     "output_type": "stream",
     "text": [
      "p-значение:  5.507595595153297e-267\n",
      "Отвергаем нулевую гипотезу\n"
     ]
    }
   ],
   "source": [
    "alpha = .05\n",
    "\n",
    "results = st.ttest_ind(smart, ultra, equal_var = False)\n",
    "\n",
    "# тест односторонний: p-value будет в два раза меньше\n",
    "print('p-значение: ', results.pvalue/ 2)\n",
    "\n",
    "# отвергаем гипотезу только если выборочное среднее значимо больше предполагаемого значения\n",
    "if (results.pvalue / 2 < alpha) and (ultra.median() > smart.median()):\n",
    "    print(\"Отвергаем нулевую гипотезу\")\n",
    "else:\n",
    "    print(\"Не получилось отвергнуть нулевую гипотезу\")"
   ]
  },
  {
   "cell_type": "markdown",
   "metadata": {},
   "source": [
    "Нулевая гипотеза и тут опровергнута. Посмотрим, на сколько различаются средние выручки: "
   ]
  },
  {
   "cell_type": "code",
   "execution_count": 40,
   "metadata": {},
   "outputs": [
    {
     "data": {
      "text/html": [
       "<div>\n",
       "<style scoped>\n",
       "    .dataframe tbody tr th:only-of-type {\n",
       "        vertical-align: middle;\n",
       "    }\n",
       "\n",
       "    .dataframe tbody tr th {\n",
       "        vertical-align: top;\n",
       "    }\n",
       "\n",
       "    .dataframe thead th {\n",
       "        text-align: right;\n",
       "    }\n",
       "</style>\n",
       "<table border=\"1\" class=\"dataframe\">\n",
       "  <thead>\n",
       "    <tr style=\"text-align: right;\">\n",
       "      <th></th>\n",
       "      <th>revenue</th>\n",
       "    </tr>\n",
       "    <tr>\n",
       "      <th>tariff</th>\n",
       "      <th></th>\n",
       "    </tr>\n",
       "  </thead>\n",
       "  <tbody>\n",
       "    <tr>\n",
       "      <td>smart</td>\n",
       "      <td>1075.0</td>\n",
       "    </tr>\n",
       "    <tr>\n",
       "      <td>ultra</td>\n",
       "      <td>2802.0</td>\n",
       "    </tr>\n",
       "  </tbody>\n",
       "</table>\n",
       "</div>"
      ],
      "text/plain": [
       "        revenue\n",
       "tariff         \n",
       "smart    1075.0\n",
       "ultra    2802.0"
      ]
     },
     "execution_count": 40,
     "metadata": {},
     "output_type": "execute_result"
    }
   ],
   "source": [
    "united_data.pivot_table(index='tariff', values='revenue', aggfunc='median')"
   ]
  },
  {
   "cell_type": "markdown",
   "metadata": {},
   "source": [
    "Из таблицы выше видно, что средняя выручка тарифа \"Ультра\" больше средней выручки от тарифа \"Смарт\" примерно в 2,5 раза. "
   ]
  },
  {
   "cell_type": "markdown",
   "metadata": {},
   "source": [
    "#### Гипотеза 2: средняя выручка пользователей из Москвы отличается от выручки пользователей из других регионов\n",
    "\n",
    "𝐻0  — средняя выручка пользователей из Москвы равна средней выручке пользователей из других регионов.\n",
    "\n",
    "𝐻1 — средняя выручка пользователей из Москвы отличается от выручки пользователей из других регионов"
   ]
  },
  {
   "cell_type": "code",
   "execution_count": 41,
   "metadata": {
    "collapsed": true
   },
   "outputs": [],
   "source": [
    "#напишем функцию, которая будет определять регион\n",
    "\n",
    "def region(city):\n",
    "    if city == 'Москва': \n",
    "        return 'Москва'\n",
    "    else: \n",
    "        return 'Другой регион'\n",
    "\n",
    "united_data = united_data.merge(users[['user_id', 'city']], on = 'user_id')    \n",
    "united_data['region'] = united_data['city'].apply(region)"
   ]
  },
  {
   "cell_type": "markdown",
   "metadata": {},
   "source": [
    "Перед проверкой гипотез сравним дисперсии выборок, чтобы правильно установить параметр equal_var"
   ]
  },
  {
   "cell_type": "code",
   "execution_count": 42,
   "metadata": {
    "collapsed": true
   },
   "outputs": [],
   "source": [
    "msk_revenue_var = united_data[united_data['region'] == 'Москва'].pivot_table(index='region', values=['revenue'], \n",
    "                                  aggfunc=np.var)\n",
    "reg_revenue_var = united_data[united_data['region'] != 'Москва'].pivot_table(index='region', values=['revenue'], \n",
    "                                  aggfunc=np.var)"
   ]
  },
  {
   "cell_type": "code",
   "execution_count": 43,
   "metadata": {
    "scrolled": true
   },
   "outputs": [
    {
     "name": "stdout",
     "output_type": "stream",
     "text": [
      "Дисперсии выборок отличаются на 17.82%\n"
     ]
    }
   ],
   "source": [
    "print('Дисперсии выборок отличаются на {:.2%}'.format(\n",
    "    1 - reg_revenue_var['revenue'][0]/msk_revenue_var['revenue'][0]))"
   ]
  },
  {
   "cell_type": "code",
   "execution_count": 44,
   "metadata": {},
   "outputs": [
    {
     "name": "stdout",
     "output_type": "stream",
     "text": [
      "p-значение:  0.0012102202252703247\n",
      "Отвергаем нулевую гипотезу\n"
     ]
    }
   ],
   "source": [
    "moscow = united_data['revenue'][united_data['city'] == 'Москва']\n",
    "\n",
    "regions = united_data['revenue'][united_data['city'] != 'Москва']\n",
    "\n",
    "alpha = .05\n",
    "\n",
    "results = st.ttest_ind(moscow, regions, equal_var = False)\n",
    "\n",
    "print('p-значение: ', results.pvalue)\n",
    "\n",
    "if (results.pvalue < alpha):\n",
    "    print(\"Отвергаем нулевую гипотезу\")\n",
    "else:\n",
    "    print(\"Не получилось отвергнуть нулевую гипотезу\")"
   ]
  },
  {
   "cell_type": "markdown",
   "metadata": {},
   "source": [
    "Похоже, что средняя выручка Москвы и регионов различается. Попробуем предположить, что средняя выручка по Москве больше средней выручки по регионам\n",
    "\n",
    "𝐻0 — средняя выручка пользователей из Москвы равна средней выручке пользователей из других регионов.\n",
    "\n",
    "𝐻1 — средняя выручка пользователей из Москвы больше выручки пользователей из других регионов"
   ]
  },
  {
   "cell_type": "code",
   "execution_count": 45,
   "metadata": {},
   "outputs": [
    {
     "name": "stdout",
     "output_type": "stream",
     "text": [
      "p-значение:  0.0006051101126351623\n",
      "Отвергаем нулевую гипотезу\n"
     ]
    }
   ],
   "source": [
    "alpha = .05\n",
    "\n",
    "results = st.ttest_ind(moscow, regions, equal_var = False)\n",
    "\n",
    "# тест односторонний: p-value будет в два раза меньше\n",
    "print('p-значение: ', results.pvalue/ 2)\n",
    "\n",
    "# отвергаем гипотезу только если выборочное среднее значимо больше предполагаемого значения\n",
    "if (results.pvalue / 2 < alpha) and (moscow.median() > regions.median()):\n",
    "    print(\"Отвергаем нулевую гипотезу\")\n",
    "else:\n",
    "    print(\"Не получилось отвергнуть нулевую гипотезу\")"
   ]
  },
  {
   "cell_type": "markdown",
   "metadata": {},
   "source": [
    "Нулевая гипотеза и тут опровергнута. Посмотрим, на сколько различаются средние выручки: "
   ]
  },
  {
   "cell_type": "code",
   "execution_count": 46,
   "metadata": {
    "scrolled": false
   },
   "outputs": [
    {
     "data": {
      "text/html": [
       "<div>\n",
       "<style scoped>\n",
       "    .dataframe tbody tr th:only-of-type {\n",
       "        vertical-align: middle;\n",
       "    }\n",
       "\n",
       "    .dataframe tbody tr th {\n",
       "        vertical-align: top;\n",
       "    }\n",
       "\n",
       "    .dataframe thead th {\n",
       "        text-align: right;\n",
       "    }\n",
       "</style>\n",
       "<table border=\"1\" class=\"dataframe\">\n",
       "  <thead>\n",
       "    <tr style=\"text-align: right;\">\n",
       "      <th></th>\n",
       "      <th>revenue</th>\n",
       "    </tr>\n",
       "    <tr>\n",
       "      <th>region</th>\n",
       "      <th></th>\n",
       "    </tr>\n",
       "  </thead>\n",
       "  <tbody>\n",
       "    <tr>\n",
       "      <td>Другой регион</td>\n",
       "      <td>1632.0</td>\n",
       "    </tr>\n",
       "    <tr>\n",
       "      <td>Москва</td>\n",
       "      <td>1776.0</td>\n",
       "    </tr>\n",
       "  </tbody>\n",
       "</table>\n",
       "</div>"
      ],
      "text/plain": [
       "               revenue\n",
       "region                \n",
       "Другой регион   1632.0\n",
       "Москва          1776.0"
      ]
     },
     "execution_count": 46,
     "metadata": {},
     "output_type": "execute_result"
    }
   ],
   "source": [
    "united_data.pivot_table(index='region', values='revenue', aggfunc='median')"
   ]
  },
  {
   "cell_type": "markdown",
   "metadata": {},
   "source": [
    "Из таблицы выше видно, что средняя выручка по Москве больше примерно на 8%"
   ]
  },
  {
   "cell_type": "markdown",
   "metadata": {},
   "source": [
    "### Шаг 5. Общий вывод\n",
    "\n",
    "Согласно результатам исследования средняя выручка от тарифа «Ультра» больше, чем от тарифа «Смарт» примерно в 2.5 раза. В среднем «Мегалайн» получает от одного пользователя тарифа «Ультра» в месяц 2802 рублей, а от одного пользователя тарифа «Смарт» - 1075 рублей. \n",
    "\n",
    "Что касается суммарной выручки, то с января по сентябрь больше денег приносит тариф \"Ультра\", а с октября по декабрь - тариф \"Смарт\". что большая часть абонентов тарифа \"Смарт\" тратит до 10000 тысяч за год, тогда как выручка от пользователей тарифа \"Ультра\" распределена более равномерно: большая их часть тратит от 3000 ло 28000 тысяч за год. \n",
    "\n",
    "При этом пользователям тарифа «Смарт» не хватает услуг в рамках тарифного пакета: кроме абонентской платы пользователи доплачивают за дополнительные пакеты услуг. Части этих клиентов можно рекомендовать переходить на тариф \"Ультра\"\n",
    "\n",
    "Пользователи тарифа «Ультра», наоборот, не используют тарифный пакет в полном объеме (хотя их небольшая доля все же же докупает дополнительные Гб трафика)\n",
    "\n",
    "Средняя выручка по Москве больше средней выручки по остальным регионам примерно на 8% (1776.0 р. в месяц в Москве против 1632.0 р. в других регионах)\n"
   ]
  }
 ],
 "metadata": {
  "kernelspec": {
   "display_name": "Python 3",
   "language": "python",
   "name": "python3"
  },
  "language_info": {
   "codemirror_mode": {
    "name": "ipython",
    "version": 3
   },
   "file_extension": ".py",
   "mimetype": "text/x-python",
   "name": "python",
   "nbconvert_exporter": "python",
   "pygments_lexer": "ipython3",
   "version": "3.6.3"
  }
 },
 "nbformat": 4,
 "nbformat_minor": 2
}
